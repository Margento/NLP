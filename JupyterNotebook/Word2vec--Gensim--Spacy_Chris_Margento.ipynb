{
 "cells": [
  {
   "cell_type": "markdown",
   "metadata": {},
   "source": [
    "Margento: word2vec & Gensim & SpaCy"
   ]
  },
  {
   "cell_type": "code",
   "execution_count": 1,
   "metadata": {},
   "outputs": [
    {
     "data": {
      "text/plain": [
       "['',\n",
       " '/Users/christanasescu/anaconda3/lib/python36.zip',\n",
       " '/Users/christanasescu/anaconda3/lib/python3.6',\n",
       " '/Users/christanasescu/anaconda3/lib/python3.6/lib-dynload',\n",
       " '/Users/christanasescu/.local/lib/python3.6/site-packages',\n",
       " '/Users/christanasescu/anaconda3/lib/python3.6/site-packages',\n",
       " '/Users/christanasescu/anaconda3/lib/python3.6/site-packages/aeosa',\n",
       " '/Users/christanasescu/anaconda3/lib/python3.6/site-packages/IPython/extensions',\n",
       " '/Users/christanasescu/.ipython']"
      ]
     },
     "execution_count": 1,
     "metadata": {},
     "output_type": "execute_result"
    }
   ],
   "source": [
    "import sys\n",
    "sys.path"
   ]
  },
  {
   "cell_type": "code",
   "execution_count": 2,
   "metadata": {},
   "outputs": [],
   "source": [
    "import networkx\n"
   ]
  },
  {
   "cell_type": "code",
   "execution_count": 3,
   "metadata": {},
   "outputs": [],
   "source": [
    "import gensim\n"
   ]
  },
  {
   "cell_type": "code",
   "execution_count": 4,
   "metadata": {},
   "outputs": [],
   "source": [
    "import nltk\n"
   ]
  },
  {
   "cell_type": "code",
   "execution_count": 5,
   "metadata": {},
   "outputs": [],
   "source": [
    "from nltk.corpus import brown\n"
   ]
  },
  {
   "cell_type": "code",
   "execution_count": 6,
   "metadata": {},
   "outputs": [],
   "source": [
    "sentences = brown.sents()\n"
   ]
  },
  {
   "cell_type": "code",
   "execution_count": 7,
   "metadata": {},
   "outputs": [],
   "source": [
    "model = gensim.models.Word2Vec(sentences, min_count=1)\n"
   ]
  },
  {
   "cell_type": "code",
   "execution_count": 8,
   "metadata": {},
   "outputs": [],
   "source": [
    "#min_count (int) – Ignores all words with total frequency lower than this."
   ]
  },
  {
   "cell_type": "markdown",
   "metadata": {},
   "source": [
    "A word embedding is an approach to provide a dense vector representation of words that capture \n",
    "something about their meaning. \n",
    "Word embeddings work by using an algorithm to train a set of fixed-length dense and continuous-valued vectors \n",
    "based on a large corpus of text. \n",
    "Each word is represented by a point in the embedding space and these points are learned and moved around based on \n",
    "the words that surround the target word.\n",
    "This approach involves defining a word by the company that it keeps that allows the word embedding to learn \n",
    "something about the meaning of words. \n",
    "\n",
    "The vector space representation of the words provides a projection where words with similar meanings are locally clustered within the space."
   ]
  },
  {
   "cell_type": "markdown",
   "metadata": {},
   "source": [
    "The use of word embeddings over other text representations is one of the key methods that has led to \n",
    "breakthrough performance with deep neural networks on problems like machine translation."
   ]
  },
  {
   "cell_type": "markdown",
   "metadata": {},
   "source": [
    "\n",
    "Word2vec is one algorithm for learning a word embedding from a text corpus.\n",
    "\n",
    "\"This tool provides an efficient implementation of the continuous bag-of-words and skip-gram architectures for computing vector representations of words. These representations can be subsequently used in many natural language processing applications and for further research.\" (from the Google Code website)\n",
    "\n",
    "It comes in two 'flavors', CBOW and Skip-gram. CBOW--Continuous Bag of Words\n",
    "In CBOW you are predicting a target word from source context words. \n",
    "In Skip-gram it is the inverse, given a target word, it predicts source context words.\n",
    "\n",
    "The approach was developed by Tomas Mikolov."
   ]
  },
  {
   "cell_type": "markdown",
   "metadata": {},
   "source": [
    "\n",
    "Gensim provides the Word2Vec class for working with a Word2Vec model.\n"
   ]
  },
  {
   "cell_type": "markdown",
   "metadata": {},
   "source": [
    "\n",
    "Gensim is a robust open-source vector space modeling and topic modeling toolkit implemented in Python. \n",
    "It uses NumPy, SciPy, and optionally Cython for performance.\n",
    "Developed by Radim Řehůřek\n"
   ]
  },
  {
   "cell_type": "markdown",
   "metadata": {},
   "source": [
    "Gensim is specifically designed to handle large text collections, using data streaming and efficient incremental algorithms, which differentiates it from most other scientific software packages that only target batch and in-memory processing. (Wikipedia)"
   ]
  },
  {
   "cell_type": "code",
   "execution_count": 9,
   "metadata": {},
   "outputs": [
    {
     "name": "stdout",
     "output_type": "stream",
     "text": [
      "Brown corpus model saved\n"
     ]
    }
   ],
   "source": [
    "model.save(\"brown_model\")\n",
    "print ('Brown corpus model saved')"
   ]
  },
  {
   "cell_type": "code",
   "execution_count": 10,
   "metadata": {},
   "outputs": [
    {
     "name": "stdout",
     "output_type": "stream",
     "text": [
      "[('morality', 0.968712329864502), ('comparison', 0.9676826596260071), ('generally', 0.9661550521850586), ('expressed', 0.9657100439071655), ('staining', 0.9655781984329224), ('evil', 0.9653047323226929), ('innovation', 0.964464008808136), ('speculative', 0.9632176160812378), ('cooling', 0.9631642699241638), ('sex', 0.9631348848342896)]\n"
     ]
    },
    {
     "name": "stderr",
     "output_type": "stream",
     "text": [
      "/Users/christanasescu/anaconda3/lib/python3.6/site-packages/ipykernel_launcher.py:2: DeprecationWarning: Call to deprecated `most_similar` (Method will be removed in 4.0.0, use self.wv.most_similar() instead).\n",
      "  \n"
     ]
    }
   ],
   "source": [
    "model = gensim.models.Word2Vec.load(\"brown_model\")\n",
    "print (model.most_similar(\"language\"))\n",
    "#print (model.self.ww.most_similar(\"language\"))"
   ]
  },
  {
   "cell_type": "code",
   "execution_count": 11,
   "metadata": {},
   "outputs": [
    {
     "name": "stdout",
     "output_type": "stream",
     "text": [
      "cereal\n",
      "table\n",
      "[-0.50755346  1.0786772   0.69766295  0.73770005  1.1281613  -0.29787976\n",
      " -0.91506684 -0.6517206  -0.25082016  0.54907733  1.0825548  -0.19474462\n",
      " -0.12295713 -0.18749279 -0.6199777  -0.08651567  0.21135457 -0.10987043\n",
      " -1.3096869  -0.33003297  0.23766576 -0.17294934  0.9351747   0.2879215\n",
      "  1.1344467   0.9580592   0.03413168 -0.46862653 -1.2559923  -0.11105335\n",
      " -0.6121916   0.19419096  0.3857062   0.187289   -0.0430116  -0.80140555\n",
      "  0.07000358 -0.33165976 -0.6041286  -0.6995844  -0.6048206  -0.8894564\n",
      " -0.25069687  0.5998084  -0.3059567   0.8713144   0.3893792   0.3849845\n",
      "  0.87368387 -0.02626109  0.65604174 -0.9884043  -0.37165835 -0.02026881\n",
      "  0.46064863  0.70750785 -0.52170634  0.76468056 -0.5080336   0.0633708\n",
      " -0.22480424  0.43306518 -0.04744358 -0.08135135  0.30841902 -0.49833855\n",
      " -0.05080441 -0.8011716   0.5060519  -0.09327721  0.27803668  0.12870848\n",
      " -0.08942171 -0.07057188  0.29414982  0.6079837  -0.10224774 -0.39101246\n",
      " -0.28839502  0.05096732 -0.31996137 -0.73704696 -0.15463188 -0.18662442\n",
      " -0.46656707  0.09674402 -0.26160207 -0.21018039  0.24576008  0.76505023\n",
      " -0.61024624 -0.02172269  0.05006007 -0.80403036  0.43507662  0.38595903\n",
      " -0.2077551  -1.191181    0.99504817 -0.76107234]\n"
     ]
    },
    {
     "name": "stderr",
     "output_type": "stream",
     "text": [
      "/Users/christanasescu/anaconda3/lib/python3.6/site-packages/ipykernel_launcher.py:2: DeprecationWarning: Call to deprecated `doesnt_match` (Method will be removed in 4.0.0, use self.wv.doesnt_match() instead).\n",
      "  \n",
      "/Users/christanasescu/anaconda3/lib/python3.6/site-packages/ipykernel_launcher.py:3: DeprecationWarning: Call to deprecated `doesnt_match` (Method will be removed in 4.0.0, use self.wv.doesnt_match() instead).\n",
      "  This is separate from the ipykernel package so we can avoid doing imports until\n",
      "/Users/christanasescu/anaconda3/lib/python3.6/site-packages/ipykernel_launcher.py:5: DeprecationWarning: Call to deprecated `__getitem__` (Method will be removed in 4.0.0, use self.wv.__getitem__() instead).\n",
      "  \"\"\"\n"
     ]
    }
   ],
   "source": [
    "#find the odd one out\n",
    "print (model.doesnt_match('breakfast cereal dinner lunch'.split()))\n",
    "print (model.doesnt_match('cat dog table'.split()))\n",
    "#vector representation of word human\n",
    "print (model[\"human\"])"
   ]
  },
  {
   "cell_type": "code",
   "execution_count": 12,
   "metadata": {},
   "outputs": [
    {
     "name": "stderr",
     "output_type": "stream",
     "text": [
      "/Users/christanasescu/anaconda3/lib/python3.6/site-packages/ipykernel_launcher.py:1: DeprecationWarning: Call to deprecated `similarity` (Method will be removed in 4.0.0, use self.wv.similarity() instead).\n",
      "  \"\"\"Entry point for launching an IPython kernel.\n"
     ]
    },
    {
     "data": {
      "text/plain": [
       "0.7462051716245925"
      ]
     },
     "execution_count": 12,
     "metadata": {},
     "output_type": "execute_result"
    }
   ],
   "source": [
    "model.similarity('human', 'machine')"
   ]
  },
  {
   "cell_type": "code",
   "execution_count": 13,
   "metadata": {},
   "outputs": [
    {
     "name": "stderr",
     "output_type": "stream",
     "text": [
      "/Users/christanasescu/anaconda3/lib/python3.6/site-packages/ipykernel_launcher.py:1: DeprecationWarning: Call to deprecated `similarity` (Method will be removed in 4.0.0, use self.wv.similarity() instead).\n",
      "  \"\"\"Entry point for launching an IPython kernel.\n"
     ]
    },
    {
     "data": {
      "text/plain": [
       "0.9423007790619742"
      ]
     },
     "execution_count": 13,
     "metadata": {},
     "output_type": "execute_result"
    }
   ],
   "source": [
    "model.similarity('machine', 'animal')"
   ]
  },
  {
   "cell_type": "code",
   "execution_count": 14,
   "metadata": {},
   "outputs": [
    {
     "name": "stderr",
     "output_type": "stream",
     "text": [
      "/Users/christanasescu/anaconda3/lib/python3.6/site-packages/ipykernel_launcher.py:1: DeprecationWarning: Call to deprecated `similarity` (Method will be removed in 4.0.0, use self.wv.similarity() instead).\n",
      "  \"\"\"Entry point for launching an IPython kernel.\n"
     ]
    },
    {
     "data": {
      "text/plain": [
       "0.6401452272207124"
      ]
     },
     "execution_count": 14,
     "metadata": {},
     "output_type": "execute_result"
    }
   ],
   "source": [
    "model.similarity('machine', 'inanimate')"
   ]
  },
  {
   "cell_type": "code",
   "execution_count": 15,
   "metadata": {},
   "outputs": [
    {
     "name": "stderr",
     "output_type": "stream",
     "text": [
      "/Users/christanasescu/anaconda3/lib/python3.6/site-packages/ipykernel_launcher.py:1: DeprecationWarning: Call to deprecated `similarity` (Method will be removed in 4.0.0, use self.wv.similarity() instead).\n",
      "  \"\"\"Entry point for launching an IPython kernel.\n"
     ]
    },
    {
     "data": {
      "text/plain": [
       "0.7105407295876369"
      ]
     },
     "execution_count": 15,
     "metadata": {},
     "output_type": "execute_result"
    }
   ],
   "source": [
    "model.similarity('human', 'computer')"
   ]
  },
  {
   "cell_type": "code",
   "execution_count": 16,
   "metadata": {},
   "outputs": [
    {
     "name": "stderr",
     "output_type": "stream",
     "text": [
      "/Users/christanasescu/anaconda3/lib/python3.6/site-packages/ipykernel_launcher.py:1: DeprecationWarning: Call to deprecated `similarity` (Method will be removed in 4.0.0, use self.wv.similarity() instead).\n",
      "  \"\"\"Entry point for launching an IPython kernel.\n"
     ]
    },
    {
     "data": {
      "text/plain": [
       "0.9014954251273815"
      ]
     },
     "execution_count": 16,
     "metadata": {},
     "output_type": "execute_result"
    }
   ],
   "source": [
    "model.similarity('machine', 'computer')"
   ]
  },
  {
   "cell_type": "code",
   "execution_count": 17,
   "metadata": {},
   "outputs": [
    {
     "name": "stderr",
     "output_type": "stream",
     "text": [
      "/Users/christanasescu/anaconda3/lib/python3.6/site-packages/ipykernel_launcher.py:1: DeprecationWarning: Call to deprecated `most_similar` (Method will be removed in 4.0.0, use self.wv.most_similar() instead).\n",
      "  \"\"\"Entry point for launching an IPython kernel.\n"
     ]
    },
    {
     "data": {
      "text/plain": [
       "[('brace', 0.9811477065086365),\n",
       " ('praise', 0.9787366986274719),\n",
       " ('herd', 0.9782615303993225),\n",
       " ('double', 0.9779195785522461)]"
      ]
     },
     "execution_count": 17,
     "metadata": {},
     "output_type": "execute_result"
    }
   ],
   "source": [
    "model.most_similar(positive=['machine'], topn = 4)"
   ]
  },
  {
   "cell_type": "code",
   "execution_count": 18,
   "metadata": {},
   "outputs": [
    {
     "name": "stderr",
     "output_type": "stream",
     "text": [
      "/Users/christanasescu/anaconda3/lib/python3.6/site-packages/ipykernel_launcher.py:1: DeprecationWarning: Call to deprecated `most_similar` (Method will be removed in 4.0.0, use self.wv.most_similar() instead).\n",
      "  \"\"\"Entry point for launching an IPython kernel.\n"
     ]
    },
    {
     "data": {
      "text/plain": [
       "[('25,000,000', 0.7905954122543335),\n",
       " ('egrets', 0.7693808078765869),\n",
       " ('pinch-hitter', 0.7418878674507141),\n",
       " ('overindulged', 0.7036421298980713),\n",
       " ('eva', 0.6785483360290527),\n",
       " ('conveying', 0.6679321527481079),\n",
       " ('lads', 0.6676516532897949),\n",
       " ('Thynnes', 0.6584084630012512),\n",
       " ('gibbet', 0.6304527521133423),\n",
       " ('20-25', 0.6209086179733276)]"
      ]
     },
     "execution_count": 18,
     "metadata": {},
     "output_type": "execute_result"
    }
   ],
   "source": [
    "model.most_similar(negative=['machine'], topn = 10)"
   ]
  },
  {
   "cell_type": "code",
   "execution_count": 19,
   "metadata": {},
   "outputs": [
    {
     "name": "stderr",
     "output_type": "stream",
     "text": [
      "/Users/christanasescu/anaconda3/lib/python3.6/site-packages/ipykernel_launcher.py:1: DeprecationWarning: Call to deprecated `most_similar` (Method will be removed in 4.0.0, use self.wv.most_similar() instead).\n",
      "  \"\"\"Entry point for launching an IPython kernel.\n"
     ]
    },
    {
     "data": {
      "text/plain": [
       "[('brace', 0.9811477065086365),\n",
       " ('praise', 0.9787366986274719),\n",
       " ('herd', 0.9782615303993225),\n",
       " ('double', 0.9779195785522461),\n",
       " ('crimson', 0.9775288105010986),\n",
       " ('cup', 0.9769830107688904),\n",
       " ('suit', 0.9761932492256165),\n",
       " ('consent', 0.9759433269500732),\n",
       " ('warrant', 0.9758354425430298),\n",
       " ('violin', 0.9757109880447388)]"
      ]
     },
     "execution_count": 19,
     "metadata": {},
     "output_type": "execute_result"
    }
   ],
   "source": [
    "model.most_similar(positive = ['machine'], topn = 10)"
   ]
  },
  {
   "cell_type": "markdown",
   "metadata": {},
   "source": [
    "Let us try another model.\n",
    "\n",
    "NLTK includes a pre-trained model which is part of a model that is trained on 100 billion words from the Google News Dataset."
   ]
  },
  {
   "cell_type": "code",
   "execution_count": 20,
   "metadata": {},
   "outputs": [],
   "source": [
    "from nltk.data import find\n",
    "\n",
    "word2vec_sample = str(find('models/word2vec_sample/pruned.word2vec.txt'))"
   ]
  },
  {
   "cell_type": "markdown",
   "metadata": {},
   "source": [
    "\n",
    "What does the name say? It was pruned. The initial set was about 3 GB (available at https://code.google.com/p/word2vec/). \n",
    "Let us initiate the model and then see to what size it has been pruned:"
   ]
  },
  {
   "cell_type": "code",
   "execution_count": 21,
   "metadata": {},
   "outputs": [],
   "source": [
    "from gensim.models import KeyedVectors"
   ]
  },
  {
   "cell_type": "code",
   "execution_count": 22,
   "metadata": {},
   "outputs": [],
   "source": [
    "model = gensim.models.KeyedVectors.load_word2vec_format(word2vec_sample, binary=False)"
   ]
  },
  {
   "cell_type": "markdown",
   "metadata": {},
   "source": [
    "\n",
    "“KeyedVectors” is essentially a mapping between entities and vectors. Each entity is identified by its string id, so this is a mapping between {str => 1D numpy array}.\n",
    "\n",
    "KeyedVectors vs full model: \n",
    "KeyedVectors do not support further training. On the other hand, by shedding the internal data structures necessary for training, KeyedVectors offer a smaller RAM footprint and a simpler interface.\n",
    "\n",
    "for more info, see https://radimrehurek.com/gensim/models/keyedvectors.html "
   ]
  },
  {
   "cell_type": "code",
   "execution_count": 23,
   "metadata": {},
   "outputs": [
    {
     "data": {
      "text/plain": [
       "43981"
      ]
     },
     "execution_count": 23,
     "metadata": {},
     "output_type": "execute_result"
    }
   ],
   "source": [
    "len(model.vocab)"
   ]
  },
  {
   "cell_type": "code",
   "execution_count": 24,
   "metadata": {},
   "outputs": [
    {
     "data": {
      "text/plain": [
       "300"
      ]
     },
     "execution_count": 24,
     "metadata": {},
     "output_type": "execute_result"
    }
   ],
   "source": [
    "len(model['machine'])"
   ]
  },
  {
   "cell_type": "code",
   "execution_count": 25,
   "metadata": {},
   "outputs": [
    {
     "data": {
      "text/plain": [
       "[('machines', 0.7677488327026367),\n",
       " ('machinery', 0.5260840058326721),\n",
       " ('Machine', 0.5063986778259277),\n",
       " ('Machines', 0.45715785026550293),\n",
       " ('apparatus', 0.4539251923561096),\n",
       " ('lathes', 0.45199644565582275),\n",
       " ('automaton', 0.44719603657722473),\n",
       " ('dispenser', 0.4465298652648926),\n",
       " ('hobbing', 0.43680340051651),\n",
       " ('computer', 0.42776867747306824)]"
      ]
     },
     "execution_count": 25,
     "metadata": {},
     "output_type": "execute_result"
    }
   ],
   "source": [
    "model.most_similar(positive=['machine'], topn = 10)"
   ]
  },
  {
   "cell_type": "code",
   "execution_count": 26,
   "metadata": {},
   "outputs": [
    {
     "data": {
      "text/plain": [
       "[('interfaith', 0.17150536179542542),\n",
       " (\"Poor's\", 0.16424152255058289),\n",
       " ('Unmarried', 0.15351945161819458),\n",
       " ('Vienne', 0.14776203036308289),\n",
       " ('Nations', 0.14426946640014648),\n",
       " ('matrimonial', 0.14347968995571136),\n",
       " ('Blasphemous', 0.14094440639019012),\n",
       " ('Equity', 0.14091116189956665),\n",
       " ('Fulbright', 0.14002956449985504),\n",
       " ('commencements', 0.1369818150997162)]"
      ]
     },
     "execution_count": 26,
     "metadata": {},
     "output_type": "execute_result"
    }
   ],
   "source": [
    "model.most_similar(negative=['machine'], topn = 10)"
   ]
  },
  {
   "cell_type": "code",
   "execution_count": null,
   "metadata": {},
   "outputs": [],
   "source": []
  },
  {
   "cell_type": "markdown",
   "metadata": {},
   "source": [
    "\n",
    "Mikolov et al. (2013) figured out that word embeddings capture much of syntactic and semantic regularities. \n",
    "For example, the vector 'King - Man + Woman' is close to 'Queen' and 'Germany - Berlin + Paris' is close to 'France'."
   ]
  },
  {
   "cell_type": "code",
   "execution_count": null,
   "metadata": {},
   "outputs": [],
   "source": []
  },
  {
   "cell_type": "code",
   "execution_count": 27,
   "metadata": {},
   "outputs": [
    {
     "name": "stderr",
     "output_type": "stream",
     "text": [
      "/Users/christanasescu/anaconda3/lib/python3.6/site-packages/ipykernel_launcher.py:1: DeprecationWarning: Call to deprecated `wv` (Attribute will be removed in 4.0.0, use self instead).\n",
      "  \"\"\"Entry point for launching an IPython kernel.\n"
     ]
    },
    {
     "data": {
      "text/plain": [
       "[('queen', 0.7118192911148071),\n",
       " ('monarch', 0.6189673542976379),\n",
       " ('princess', 0.5902431011199951),\n",
       " ('prince', 0.5377321243286133),\n",
       " ('kings', 0.5236842632293701),\n",
       " ('queens', 0.5181134939193726),\n",
       " ('throne', 0.5005807876586914),\n",
       " ('royal', 0.4938204884529114),\n",
       " ('ruler', 0.4909273684024811),\n",
       " ('princes', 0.48108145594596863)]"
      ]
     },
     "execution_count": 27,
     "metadata": {},
     "output_type": "execute_result"
    }
   ],
   "source": [
    "model.wv.most_similar(positive=['woman', 'king'], negative=['man']) "
   ]
  },
  {
   "cell_type": "code",
   "execution_count": 28,
   "metadata": {},
   "outputs": [
    {
     "name": "stderr",
     "output_type": "stream",
     "text": [
      "/Users/christanasescu/anaconda3/lib/python3.6/site-packages/ipykernel_launcher.py:1: DeprecationWarning: Call to deprecated `wv` (Attribute will be removed in 4.0.0, use self instead).\n",
      "  \"\"\"Entry point for launching an IPython kernel.\n"
     ]
    },
    {
     "data": {
      "text/plain": [
       "[('queen', 0.9314123392105103),\n",
       " ('monarch', 0.858533501625061),\n",
       " ('princess', 0.8476566672325134),\n",
       " ('queens', 0.809981644153595),\n",
       " ('prince', 0.8009797930717468),\n",
       " ('throne', 0.7853889465332031),\n",
       " ('royal', 0.7835603356361389),\n",
       " ('ruler', 0.7720382213592529),\n",
       " ('goddess', 0.7712306380271912),\n",
       " ('Princess', 0.7667570114135742)]"
      ]
     },
     "execution_count": 28,
     "metadata": {},
     "output_type": "execute_result"
    }
   ],
   "source": [
    "model.wv.most_similar_cosmul(positive=['woman', 'king'], negative=['man'])\n",
    "\n",
    "#most_similar_cosmul() is based on Levy and\n",
    "#Goldberg's method. The formula is\n",
    "#*argmax(cos(b*,b)*cos(b*,a*)/(**cos(b*,a)+epsilon**))*\n",
    "\n",
    "#3CosAdd being a linear sum, allows one large similarity term to dominate the expression. \n",
    "#It ignores that each term reflects a different aspect of similarity, and the different aspects have different scales.\n",
    "\n",
    "#3CosMul, on the other hand - amplifies the differences between small quantities and \n",
    "#reduces the differences between larger ones.\n",
    "\n",
    "#3CosAdd is more susceptible of getting dominated by 1 comparison, as compared to the second method, 3CosMul"
   ]
  },
  {
   "cell_type": "code",
   "execution_count": 29,
   "metadata": {},
   "outputs": [
    {
     "name": "stderr",
     "output_type": "stream",
     "text": [
      "/Users/christanasescu/anaconda3/lib/python3.6/site-packages/ipykernel_launcher.py:1: DeprecationWarning: Call to deprecated `wv` (Attribute will be removed in 4.0.0, use self instead).\n",
      "  \"\"\"Entry point for launching an IPython kernel.\n"
     ]
    },
    {
     "data": {
      "text/plain": [
       "[('France', 0.9849966764450073),\n",
       " ('Belgium', 0.8674561381340027),\n",
       " ('Spain', 0.8407710790634155),\n",
       " ('Italy', 0.8346039056777954),\n",
       " ('Switzerland', 0.8240053653717041),\n",
       " ('French', 0.8182945847511292),\n",
       " ('Morocco', 0.81309974193573),\n",
       " ('Europe', 0.8017892241477966),\n",
       " ('Netherlands', 0.7938497066497803),\n",
       " ('Bordeaux', 0.7927432060241699)]"
      ]
     },
     "execution_count": 29,
     "metadata": {},
     "output_type": "execute_result"
    }
   ],
   "source": [
    "model.wv.most_similar_cosmul(positive=['Paris','Germany'], negative=['Berlin'])"
   ]
  },
  {
   "cell_type": "code",
   "execution_count": 30,
   "metadata": {},
   "outputs": [
    {
     "name": "stderr",
     "output_type": "stream",
     "text": [
      "/Users/christanasescu/anaconda3/lib/python3.6/site-packages/ipykernel_launcher.py:1: DeprecationWarning: Call to deprecated `wv` (Attribute will be removed in 4.0.0, use self instead).\n",
      "  \"\"\"Entry point for launching an IPython kernel.\n"
     ]
    },
    {
     "data": {
      "text/plain": [
       "[('columnist', 0.9119311571121216),\n",
       " ('journalist', 0.9025043845176697),\n",
       " ('author', 0.8960609436035156),\n",
       " ('reporter', 0.8851152658462524),\n",
       " ('editor', 0.8748608827590942),\n",
       " ('scribe', 0.871620237827301),\n",
       " ('sportswriter', 0.8525788187980652),\n",
       " ('writers', 0.8515796661376953),\n",
       " ('writes', 0.8491745591163635),\n",
       " ('newspaperman', 0.8411786556243896)]"
      ]
     },
     "execution_count": 30,
     "metadata": {},
     "output_type": "execute_result"
    }
   ],
   "source": [
    "model.wv.most_similar_cosmul(positive=['writer', 'novelist'], negative=['playwright'])"
   ]
  },
  {
   "cell_type": "code",
   "execution_count": 31,
   "metadata": {},
   "outputs": [
    {
     "name": "stderr",
     "output_type": "stream",
     "text": [
      "/Users/christanasescu/anaconda3/lib/python3.6/site-packages/ipykernel_launcher.py:1: DeprecationWarning: Call to deprecated `wv` (Attribute will be removed in 4.0.0, use self instead).\n",
      "  \"\"\"Entry point for launching an IPython kernel.\n"
     ]
    },
    {
     "data": {
      "text/plain": [
       "[('poet', 0.6610976457595825),\n",
       " ('playwright', 0.6517696380615234),\n",
       " ('author', 0.64620441198349),\n",
       " ('novelists', 0.6419010162353516),\n",
       " ('journalist', 0.641152560710907),\n",
       " ('dramatist', 0.6224865913391113),\n",
       " ('novels', 0.6040788888931274),\n",
       " ('writers', 0.5988038778305054),\n",
       " ('scribe', 0.5935876369476318),\n",
       " ('columnist', 0.5934221148490906)]"
      ]
     },
     "execution_count": 31,
     "metadata": {},
     "output_type": "execute_result"
    }
   ],
   "source": [
    "model.wv.most_similar_cosmul(positive=['writer', 'novelist'])"
   ]
  },
  {
   "cell_type": "code",
   "execution_count": null,
   "metadata": {},
   "outputs": [],
   "source": []
  },
  {
   "cell_type": "markdown",
   "metadata": {},
   "source": [
    "\n",
    "\n",
    "Let's build our own model!"
   ]
  },
  {
   "cell_type": "code",
   "execution_count": 32,
   "metadata": {},
   "outputs": [],
   "source": [
    "sentences = [['this', 'is', 'the', 'first', 'sentence', 'about', 'word2vec', 'in', 'our', 'tutorial'],\n",
    "\t\t\t['this', 'is', 'the', 'second', 'sentence', 'regarding', 'training', 'our', 'own', 'model'],\n",
    "\t\t\t['yet', 'another', 'sentence', 'about', 'the', 'relationship', 'between', 'gensim', 'and', 'word2vec'],\n",
    "\t\t\t['one', 'more', 'sentence', 'on', 'how', 'we', 'plan', 'on', 'applying', 'a', 'word2vec', 'model', 'in', 'our', 'further', 'research'],\n",
    "\t\t\t['and', 'the', 'final', 'sentence', 'is', 'meant', 'not', 'to', 'draw', 'a', 'conclusion', 'but', 'to', 'get', 'things', 'started', 'on', 'natural', 'language', 'processing']]"
   ]
  },
  {
   "cell_type": "code",
   "execution_count": 33,
   "metadata": {},
   "outputs": [],
   "source": [
    "\n",
    "from gensim.models import Word2Vec"
   ]
  },
  {
   "cell_type": "code",
   "execution_count": 34,
   "metadata": {},
   "outputs": [],
   "source": [
    "\n",
    "model = Word2Vec(sentences, min_count=1)"
   ]
  },
  {
   "cell_type": "code",
   "execution_count": 35,
   "metadata": {},
   "outputs": [
    {
     "name": "stdout",
     "output_type": "stream",
     "text": [
      "Word2Vec(vocab=44, size=100, alpha=0.025)\n"
     ]
    }
   ],
   "source": [
    "\n",
    "print(model)"
   ]
  },
  {
   "cell_type": "markdown",
   "metadata": {},
   "source": [
    "size = dimensionality of vectors\n"
   ]
  },
  {
   "cell_type": "code",
   "execution_count": 36,
   "metadata": {},
   "outputs": [],
   "source": [
    "\n",
    "words = list(model.wv.vocab)"
   ]
  },
  {
   "cell_type": "code",
   "execution_count": 37,
   "metadata": {},
   "outputs": [
    {
     "name": "stdout",
     "output_type": "stream",
     "text": [
      "['this', 'is', 'the', 'first', 'sentence', 'about', 'word2vec', 'in', 'our', 'tutorial', 'second', 'regarding', 'training', 'own', 'model', 'yet', 'another', 'relationship', 'between', 'gensim', 'and', 'one', 'more', 'on', 'how', 'we', 'plan', 'applying', 'a', 'further', 'research', 'final', 'meant', 'not', 'to', 'draw', 'conclusion', 'but', 'get', 'things', 'started', 'natural', 'language', 'processing']\n"
     ]
    }
   ],
   "source": [
    "\n",
    "print(words)"
   ]
  },
  {
   "cell_type": "code",
   "execution_count": 38,
   "metadata": {},
   "outputs": [
    {
     "name": "stdout",
     "output_type": "stream",
     "text": [
      "[ 4.6788785e-03 -1.3875250e-03  2.4061634e-04 -4.9768081e-03\n",
      "  3.9597773e-03 -6.7634793e-04 -2.1871633e-03 -8.2890423e-05\n",
      " -4.9654753e-03 -3.8009856e-03 -1.1324660e-03  4.9456256e-03\n",
      "  6.5243134e-04 -1.7872660e-03  1.9776307e-03  1.4887978e-03\n",
      " -1.6718052e-03 -2.7795404e-03  4.8079058e-03 -1.4617556e-03\n",
      "  4.7244839e-03 -2.7981555e-04 -3.7046256e-03  4.6784072e-03\n",
      " -1.8329978e-03 -1.0673429e-03 -4.8993342e-03 -3.8446780e-04\n",
      " -2.2954373e-03 -4.9665938e-03 -1.4606845e-03 -3.4865383e-03\n",
      "  9.8846457e-04  1.5010963e-03 -3.1273987e-03 -3.0621965e-03\n",
      "  3.5104949e-03 -9.6839614e-04 -4.1354266e-03 -1.0525312e-03\n",
      " -2.8202010e-03  4.7350707e-03  1.5691754e-03  1.3590318e-03\n",
      "  9.2941358e-05 -2.3198193e-03 -3.5104123e-03 -4.7689239e-03\n",
      " -2.1082617e-03 -3.7057051e-03  3.9603706e-03  2.7374395e-03\n",
      " -1.4303523e-04  3.5159206e-03 -9.4029255e-04  1.1848139e-03\n",
      "  2.0771376e-03 -2.3890242e-03  2.2705477e-03 -4.8400876e-03\n",
      " -8.2823652e-05 -1.4923204e-03 -3.0725645e-03  2.9512835e-03\n",
      " -1.0717061e-03  4.1973721e-03 -4.4480339e-03 -2.7187972e-03\n",
      "  2.7921952e-03  1.9933169e-03 -2.0511707e-03 -1.9854250e-04\n",
      " -2.8537383e-04  4.4967625e-03  2.0585076e-03 -2.5213251e-03\n",
      "  1.4252499e-03  4.5208684e-03  4.1997642e-03  2.8549910e-03\n",
      "  6.2265765e-04 -3.1374837e-03 -4.9815164e-03 -8.2493410e-04\n",
      "  7.9791824e-04 -2.3787213e-03  1.8714476e-04  7.0733402e-04\n",
      "  4.8801498e-03  9.8229805e-04 -4.2962241e-03 -4.2087608e-03\n",
      " -3.9629200e-03 -4.8480630e-03 -4.3668789e-03  4.4707679e-03\n",
      " -4.2601817e-04 -3.4845937e-03 -3.8815837e-04  2.8678924e-03]\n"
     ]
    },
    {
     "name": "stderr",
     "output_type": "stream",
     "text": [
      "/Users/christanasescu/anaconda3/lib/python3.6/site-packages/ipykernel_launcher.py:1: DeprecationWarning: Call to deprecated `__getitem__` (Method will be removed in 4.0.0, use self.wv.__getitem__() instead).\n",
      "  \"\"\"Entry point for launching an IPython kernel.\n"
     ]
    }
   ],
   "source": [
    "print(model['sentence'])"
   ]
  },
  {
   "cell_type": "markdown",
   "metadata": {},
   "source": [
    "\n",
    "\n",
    "\n",
    "\n",
    "VISUALIZATION:\n",
    "PLOTTING WORD VECTORS USING PCA"
   ]
  },
  {
   "cell_type": "code",
   "execution_count": 39,
   "metadata": {},
   "outputs": [],
   "source": [
    "\n",
    "from sklearn import decomposition\n",
    "from sklearn import datasets"
   ]
  },
  {
   "cell_type": "code",
   "execution_count": 40,
   "metadata": {},
   "outputs": [],
   "source": [
    "\n",
    "from sklearn.decomposition import PCA as sklearnPCA"
   ]
  },
  {
   "cell_type": "code",
   "execution_count": 41,
   "metadata": {},
   "outputs": [],
   "source": [
    "\n",
    "pca = sklearnPCA(n_components=2)"
   ]
  },
  {
   "cell_type": "code",
   "execution_count": 42,
   "metadata": {},
   "outputs": [
    {
     "name": "stderr",
     "output_type": "stream",
     "text": [
      "/Users/christanasescu/anaconda3/lib/python3.6/site-packages/ipykernel_launcher.py:2: DeprecationWarning: Call to deprecated `__getitem__` (Method will be removed in 4.0.0, use self.wv.__getitem__() instead).\n",
      "  \n"
     ]
    }
   ],
   "source": [
    "#We need to retrieve all the vectors from a trained model\n",
    "X = model[model.wv.vocab]"
   ]
  },
  {
   "cell_type": "code",
   "execution_count": 43,
   "metadata": {},
   "outputs": [],
   "source": [
    "\n",
    "result = pca.fit_transform(X)"
   ]
  },
  {
   "cell_type": "code",
   "execution_count": 44,
   "metadata": {},
   "outputs": [],
   "source": [
    "\n",
    "import matplotlib.pyplot as plt"
   ]
  },
  {
   "cell_type": "code",
   "execution_count": 45,
   "metadata": {},
   "outputs": [
    {
     "data": {
      "text/plain": [
       "<matplotlib.collections.PathCollection at 0x1a2a7d9be0>"
      ]
     },
     "execution_count": 45,
     "metadata": {},
     "output_type": "execute_result"
    },
    {
     "data": {
      "image/png": "[encoded data removed]",
      "text/plain": [
       "<Figure size 432x288 with 1 Axes>"
      ]
     },
     "metadata": {
      "needs_background": "light"
     },
     "output_type": "display_data"
    }
   ],
   "source": [
    "\n",
    "plt.scatter(result[:, 0], result[:, 1])"
   ]
  },
  {
   "cell_type": "code",
   "execution_count": null,
   "metadata": {},
   "outputs": [
    {
     "data": {
      "image/png": "[encoded data removed]",
      "text/plain": [
       "<Figure size 432x288 with 1 Axes>"
      ]
     },
     "metadata": {
      "needs_background": "light"
     },
     "output_type": "display_data"
    }
   ],
   "source": [
    "\n",
    "for i, word in enumerate(words):\n",
    "      plt.annotate(word, xy=(result[i, 0], result[i, 1]))\n",
    "plt.show()\n",
    "      \n",
    "      "
   ]
  },
  {
   "cell_type": "code",
   "execution_count": null,
   "metadata": {},
   "outputs": [
    {
     "data": {
      "image/png": "[encoded data removed]",
      "text/plain": [
       "<Figure size 1872x1152 with 1 Axes>"
      ]
     },
     "metadata": {
      "needs_background": "light"
     },
     "output_type": "display_data"
    }
   ],
   "source": [
    "fig, ax = plt.subplots(figsize=(26, 16))\n",
    "for i, word in enumerate(words):\n",
    "      plt.annotate(word, xy=(result[i, 0], result[i, 1]))\n",
    "\n",
    "#plt.axis([-0.1,0.6,-0.4,0.6])\n",
    "plt.axis([-0.025,0.027,-0.05,0.05])\n",
    "plt.show()"
   ]
  },
  {
   "cell_type": "markdown",
   "metadata": {},
   "source": [
    "\n",
    "\n",
    "\n",
    "Let us return to the Google News Model where we have much more words and see if we can plot those ones as well."
   ]
  },
  {
   "cell_type": "code",
   "execution_count": null,
   "metadata": {},
   "outputs": [],
   "source": [
    "\n",
    "model = gensim.models.KeyedVectors.load_word2vec_format(word2vec_sample, binary=False)"
   ]
  },
  {
   "cell_type": "code",
   "execution_count": null,
   "metadata": {},
   "outputs": [],
   "source": [
    "\n",
    "import numpy as np\n",
    "labels = []\n",
    "count = 0\n",
    "max_count = 50\n",
    "X = np.zeros(shape=(max_count,len(model['machine'])))  \n",
    "\n",
    "#the numpy.zeros function returns a new array of given shape and type, filled with zeros.\n",
    "\n"
   ]
  },
  {
   "cell_type": "code",
   "execution_count": null,
   "metadata": {},
   "outputs": [],
   "source": [
    "for term in model.vocab:\n",
    "    X[count] = model[term]\n",
    "    labels.append(term)\n",
    "    count+= 1\n",
    "    if count >= max_count: break"
   ]
  },
  {
   "cell_type": "code",
   "execution_count": null,
   "metadata": {},
   "outputs": [],
   "source": [
    "\n",
    "from sklearn.decomposition import PCA\n",
    "pca = PCA(n_components=50)\n",
    "X_50 = pca.fit_transform(X)"
   ]
  },
  {
   "cell_type": "code",
   "execution_count": null,
   "metadata": {},
   "outputs": [],
   "source": [
    "\n",
    "# Using TSNE to further reduce to 2 dimensions\n",
    "from sklearn.manifold import TSNE\n",
    "model_tsne = TSNE(n_components=2, random_state=0)\n",
    "Y = model_tsne.fit_transform(X_50)"
   ]
  },
  {
   "cell_type": "code",
   "execution_count": null,
   "metadata": {},
   "outputs": [
    {
     "data": {
      "text/plain": [
       "<matplotlib.collections.PathCollection at 0x1a3b7fc668>"
      ]
     },
     "execution_count": 53,
     "metadata": {},
     "output_type": "execute_result"
    },
    {
     "data": {
      "image/png": "[encoded data removed]",
      "text/plain": [
       "<Figure size 432x288 with 1 Axes>"
      ]
     },
     "metadata": {
      "needs_background": "light"
     },
     "output_type": "display_data"
    }
   ],
   "source": [
    "\n",
    "# Show the scatter plot\n",
    "#import matplotlib.pyplot as plt\n",
    "#plt.scatter(Y[:,0], Y[:,1], 20)"
   ]
  },
  {
   "cell_type": "code",
   "execution_count": null,
   "metadata": {},
   "outputs": [],
   "source": [
    "\n",
    "# Adding labels\n",
    "#for label, x, y in zip(labels, Y[:, 0], Y[:, 1]):\n",
    "    #plt.annotate(label, xy = (x,y), xytext = (0, 0), textcoords = 'offset points', size = 10) \n",
    "#plt.show()"
   ]
  },
  {
   "cell_type": "code",
   "execution_count": null,
   "metadata": {},
   "outputs": [],
   "source": [
    "# Fixing the dimensions and the axes\n",
    "#fig, ax = plt.subplots(figsize=(18, 10))\n",
    "#for label, x, y in zip(labels, Y[:, 0], Y[:, 1]):\n",
    "    #plt.annotate(label, xy = (x,y), xytext = (0, 0), textcoords = 'offset points', size = 10)\n",
    "\n",
    "#plt.axis([-70,80,-60,70])    \n",
    "#plt.show()"
   ]
  },
  {
   "cell_type": "code",
   "execution_count": null,
   "metadata": {},
   "outputs": [],
   "source": [
    "#GOING DIRECTLY TO 2 COMPONENTS IN PCA\n",
    "#from sklearn.decomposition import PCA\n",
    "#pca = PCA(n_components=2)\n",
    "#X_2 = pca.fit_transform(X)"
   ]
  },
  {
   "cell_type": "code",
   "execution_count": null,
   "metadata": {},
   "outputs": [],
   "source": [
    "import matplotlib.pyplot as plt\n",
    "#plt.scatter(X_2[:,0], X_2[:,1], 20)"
   ]
  },
  {
   "cell_type": "code",
   "execution_count": null,
   "metadata": {},
   "outputs": [],
   "source": [
    "#for label, x, y in zip(labels, X_2[:, 0], X_2[:, 1]):\n",
    "    #plt.annotate(label, xy = (x,y), xytext = (0, 0), textcoords = 'offset points', size = 10) \n",
    "#plt.show()"
   ]
  },
  {
   "cell_type": "code",
   "execution_count": null,
   "metadata": {},
   "outputs": [],
   "source": [
    "#fig, ax = plt.subplots(figsize=(18, 10))\n",
    "#for label, x, y in zip(labels, X_2[:, 0], X_2[:, 1]):\n",
    "    #plt.annotate(label, xy = (x,y), xytext = (0, 0), textcoords = 'offset points', size = 10)\n",
    "\n",
    "#plt.axis([0,1.0,0,1.0]) \n",
    "#plt.show()\n"
   ]
  },
  {
   "cell_type": "markdown",
   "metadata": {},
   "source": [
    "\n",
    "SPACY\n"
   ]
  },
  {
   "cell_type": "code",
   "execution_count": 40,
   "metadata": {},
   "outputs": [],
   "source": [
    "import spacy"
   ]
  },
  {
   "cell_type": "code",
   "execution_count": 41,
   "metadata": {},
   "outputs": [],
   "source": [
    "# Load English tokenizer, tagger, parser, NER, and word vectors\n",
    "nlp = spacy.load('en_core_web_sm')"
   ]
  },
  {
   "cell_type": "markdown",
   "metadata": {},
   "source": [
    "\n",
    "spaCy is able to compare two objects, and make a prediction of how similar they are. Predicting similarity is useful for building recommendation systems or flagging duplicates. For example, you can suggest a user content that's similar to what they're currently looking at, or label a support ticket as a duplicate if it's very similar to an already existing one.\n",
    "\n",
    "Each Doc, Span, and Token comes with a .similarity()  method that lets you compare it with another object, and determine the similarity. Of course similarity is always subjective – whether \"dog\" and \"cat\" are similar really depends on how you're looking at it. spaCy's similarity model usually assumes a pretty general-purpose definition of similarity."
   ]
  },
  {
   "cell_type": "code",
   "execution_count": 42,
   "metadata": {},
   "outputs": [],
   "source": [
    "tokens = nlp(u'machine computer human')"
   ]
  },
  {
   "cell_type": "code",
   "execution_count": 43,
   "metadata": {},
   "outputs": [
    {
     "name": "stdout",
     "output_type": "stream",
     "text": [
      "1.0\n",
      "0.6076606\n",
      "0.20924059\n",
      "0.6076606\n",
      "1.0\n",
      "0.40710005\n",
      "0.20924059\n",
      "0.40710005\n",
      "1.0\n"
     ]
    }
   ],
   "source": [
    "\n",
    "for token1 in tokens:\n",
    "    for token2 in tokens:\n",
    "        print(token1.similarity(token2))"
   ]
  },
  {
   "cell_type": "code",
   "execution_count": 44,
   "metadata": {},
   "outputs": [],
   "source": [
    "tokens = nlp(u'cat dog banana')"
   ]
  },
  {
   "cell_type": "code",
   "execution_count": 45,
   "metadata": {},
   "outputs": [
    {
     "name": "stdout",
     "output_type": "stream",
     "text": [
      "1.0\n",
      "0.4759995\n",
      "0.2811343\n",
      "0.4759995\n",
      "1.0\n",
      "0.51964444\n",
      "0.2811343\n",
      "0.51964444\n",
      "1.0\n"
     ]
    }
   ],
   "source": [
    "for token1 in tokens:\n",
    "    for token2 in tokens:\n",
    "        print(token1.similarity(token2))"
   ]
  },
  {
   "cell_type": "markdown",
   "metadata": {},
   "source": [
    "\n",
    "LET US COMPARE THIS WITH ANOTHER MODEL"
   ]
  },
  {
   "cell_type": "code",
   "execution_count": 46,
   "metadata": {},
   "outputs": [],
   "source": [
    "\n",
    "nlp2 = spacy.load('en_core_web_lg')"
   ]
  },
  {
   "cell_type": "code",
   "execution_count": 47,
   "metadata": {},
   "outputs": [],
   "source": [
    "tokens = nlp2(u'machine computer human')"
   ]
  },
  {
   "cell_type": "code",
   "execution_count": 9,
   "metadata": {},
   "outputs": [
    {
     "name": "stdout",
     "output_type": "stream",
     "text": [
      "1.0\n",
      "0.53911096\n",
      "0.23664333\n",
      "0.53911096\n",
      "1.0\n",
      "0.31804404\n",
      "0.23664333\n",
      "0.31804404\n",
      "1.0\n"
     ]
    }
   ],
   "source": [
    "for token1 in tokens:\n",
    "    for token2 in tokens:\n",
    "        print(token1.similarity(token2))"
   ]
  },
  {
   "cell_type": "markdown",
   "metadata": {},
   "source": [
    "the previous model outputted:\n",
    "\n",
    "1.0\n",
    "0.6076606\n",
    "0.20924059\n",
    "0.6076606\n",
    "1.0\n",
    "0.40710005\n",
    "0.20924059\n",
    "0.40710005\n",
    "1.0"
   ]
  },
  {
   "cell_type": "markdown",
   "metadata": {},
   "source": [
    "Interesting differences, don't you think? What is happening here? \"lg\" actually stands for large... (so it is a larger version of the same model actually)"
   ]
  },
  {
   "cell_type": "code",
   "execution_count": 48,
   "metadata": {},
   "outputs": [],
   "source": [
    "tokens = nlp(u'machine computer husband wife')"
   ]
  },
  {
   "cell_type": "code",
   "execution_count": 49,
   "metadata": {},
   "outputs": [
    {
     "name": "stdout",
     "output_type": "stream",
     "text": [
      "1.0\n",
      "0.6469107\n",
      "0.4350918\n",
      "0.44778153\n",
      "0.6469107\n",
      "1.0\n",
      "0.6723604\n",
      "0.6301568\n",
      "0.4350918\n",
      "0.6723604\n",
      "1.0\n",
      "0.54964685\n",
      "0.44778153\n",
      "0.6301568\n",
      "0.54964685\n",
      "1.0\n"
     ]
    }
   ],
   "source": [
    "for token1 in tokens:\n",
    "    for token2 in tokens:\n",
    "        print(token1.similarity(token2))"
   ]
  },
  {
   "cell_type": "code",
   "execution_count": 50,
   "metadata": {},
   "outputs": [],
   "source": [
    "\n",
    "tokens2 = nlp2(u'machine computer husband wife')"
   ]
  },
  {
   "cell_type": "code",
   "execution_count": 51,
   "metadata": {},
   "outputs": [
    {
     "name": "stdout",
     "output_type": "stream",
     "text": [
      "1.0\n",
      "0.53911096\n",
      "0.14169493\n",
      "0.16131179\n",
      "0.53911096\n",
      "1.0\n",
      "0.20112431\n",
      "0.18467948\n",
      "0.14169493\n",
      "0.20112431\n",
      "1.0\n",
      "0.88855284\n",
      "0.16131179\n",
      "0.18467948\n",
      "0.88855284\n",
      "1.0\n"
     ]
    }
   ],
   "source": [
    "for token1 in tokens2:\n",
    "    for token2 in tokens2:\n",
    "        print(token1.similarity(token2))\n"
   ]
  },
  {
   "cell_type": "code",
   "execution_count": 14,
   "metadata": {},
   "outputs": [],
   "source": [
    "tokens = nlp2(u'cat dog banana')"
   ]
  },
  {
   "cell_type": "markdown",
   "metadata": {},
   "source": [
    "LET US REPEAT THE EVALUATION (the comparison between the three tokens above):"
   ]
  },
  {
   "cell_type": "code",
   "execution_count": 15,
   "metadata": {},
   "outputs": [],
   "source": [
    "#Code here"
   ]
  },
  {
   "cell_type": "code",
   "execution_count": 52,
   "metadata": {},
   "outputs": [
    {
     "name": "stdout",
     "output_type": "stream",
     "text": [
      "1.0\n",
      "0.6469107\n",
      "0.4350918\n",
      "0.44778153\n",
      "0.6469107\n",
      "1.0\n",
      "0.6723604\n",
      "0.6301568\n",
      "0.4350918\n",
      "0.6723604\n",
      "1.0\n",
      "0.54964685\n",
      "0.44778153\n",
      "0.6301568\n",
      "0.54964685\n",
      "1.0\n"
     ]
    }
   ],
   "source": [
    "for token1 in tokens:\n",
    "    for token2 in tokens:\n",
    "        print(token1.similarity(token2))"
   ]
  },
  {
   "cell_type": "markdown",
   "metadata": {},
   "source": [
    "the output of the previous model (in fact the small version of the same model) was:\n",
    "1.0\n",
    "0.4759995\n",
    "0.2811343\n",
    "0.4759995\n",
    "1.0\n",
    "0.51964444\n",
    "0.2811343\n",
    "0.51964444\n",
    "1.0"
   ]
  },
  {
   "cell_type": "code",
   "execution_count": null,
   "metadata": {},
   "outputs": [],
   "source": []
  },
  {
   "cell_type": "markdown",
   "metadata": {},
   "source": [
    "\n",
    "SIMILARITIES IN CONTEXT"
   ]
  },
  {
   "cell_type": "markdown",
   "metadata": {},
   "source": [
    "Aside from spaCy's built-in word vectors, which were trained on a lot of text with a wide vocabulary, the parsing, tagging and NER models also rely on vector representations of the meanings of words in context. As the processing pipeline is applied spaCy encodes a document's internal meaning representations as an array of floats, also called a tensor. This allows spaCy to make a reasonable guess at a word's meaning, based on its surrounding words. Even if a word hasn't been seen before, spaCy will know something about it. Because spaCy uses a 4-layer convolutional network, the tensors are sensitive to up to four words on either side of a word."
   ]
  },
  {
   "cell_type": "markdown",
   "metadata": {},
   "source": [
    "For example, here are three sentences containing the out-of-vocabulary word \"labrador\" in different contexts."
   ]
  },
  {
   "cell_type": "code",
   "execution_count": null,
   "metadata": {},
   "outputs": [],
   "source": []
  },
  {
   "cell_type": "code",
   "execution_count": 53,
   "metadata": {},
   "outputs": [],
   "source": [
    "doc1 = nlp(u\"The labrador barked.\")\n",
    "doc2 = nlp(u\"The labrador swam.\")\n",
    "doc3 = nlp(u\"the labrador people live in canada.\")\n",
    "\n"
   ]
  },
  {
   "cell_type": "markdown",
   "metadata": {},
   "source": [
    "\n",
    "Even though the model has never seen the word \"labrador\", it can make a fairly accurate prediction of its similarity to \"dog\" in different contexts."
   ]
  },
  {
   "cell_type": "code",
   "execution_count": 54,
   "metadata": {},
   "outputs": [
    {
     "name": "stdout",
     "output_type": "stream",
     "text": [
      "0.3551335032456585\n",
      "0.21606150548240183\n",
      "0.20747180408794746\n"
     ]
    }
   ],
   "source": [
    "for doc in [doc1, doc2, doc3]:\n",
    "    labrador = doc[1]\n",
    "    dog = nlp(u\"dog\")\n",
    "    print(labrador.similarity(dog))"
   ]
  },
  {
   "cell_type": "code",
   "execution_count": 55,
   "metadata": {},
   "outputs": [],
   "source": [
    "\n",
    "nlp2 = spacy.load('en_core_web_lg')"
   ]
  },
  {
   "cell_type": "code",
   "execution_count": 56,
   "metadata": {},
   "outputs": [],
   "source": [
    "doc1 = nlp2(u\"The labrador barked.\")\n",
    "doc2 = nlp2(u\"The labrador swam.\")\n",
    "doc3 = nlp2(u\"the labrador people live in canada.\")"
   ]
  },
  {
   "cell_type": "code",
   "execution_count": 57,
   "metadata": {},
   "outputs": [
    {
     "name": "stdout",
     "output_type": "stream",
     "text": [
      "0.6349026162074578\n",
      "0.6349026162074578\n",
      "0.6349026162074578\n"
     ]
    }
   ],
   "source": [
    "for doc in [doc1, doc2, doc3]:\n",
    "    labrador = doc[1]\n",
    "    dog = nlp2(u\"dog\")\n",
    "    print(labrador.similarity(dog))"
   ]
  },
  {
   "cell_type": "code",
   "execution_count": null,
   "metadata": {},
   "outputs": [],
   "source": []
  },
  {
   "cell_type": "markdown",
   "metadata": {},
   "source": [
    "Let us consider an even more extraneous word:"
   ]
  },
  {
   "cell_type": "code",
   "execution_count": 58,
   "metadata": {},
   "outputs": [],
   "source": [
    "doc1 = nlp(u\"The vaca is a cow.\")"
   ]
  },
  {
   "cell_type": "code",
   "execution_count": 59,
   "metadata": {},
   "outputs": [],
   "source": [
    "doc2 = nlp(u\"The vaca is a rocket flying in the sky.\")"
   ]
  },
  {
   "cell_type": "code",
   "execution_count": 60,
   "metadata": {},
   "outputs": [],
   "source": [
    "doc3 = nlp(u\"The vaca teaches computer science at University of Ottawa.\")"
   ]
  },
  {
   "cell_type": "code",
   "execution_count": 61,
   "metadata": {},
   "outputs": [
    {
     "name": "stdout",
     "output_type": "stream",
     "text": [
      "0.15262526013444114\n",
      "0.14944645135780102\n",
      "0.14710404655213882\n"
     ]
    }
   ],
   "source": [
    "for doc in [doc1, doc2, doc3]:\n",
    "    vaca = doc[1]\n",
    "    cow = nlp(u\"cow\")\n",
    "    print(vaca.similarity(cow))"
   ]
  },
  {
   "cell_type": "code",
   "execution_count": null,
   "metadata": {},
   "outputs": [],
   "source": []
  },
  {
   "cell_type": "code",
   "execution_count": 66,
   "metadata": {},
   "outputs": [],
   "source": [
    "doc1 = nlp2(u\"The vaca is a Romanian cow.\")"
   ]
  },
  {
   "cell_type": "code",
   "execution_count": 67,
   "metadata": {},
   "outputs": [],
   "source": [
    "doc2 = nlp2(u\"The vaca is a rocket flying in the sky.\")"
   ]
  },
  {
   "cell_type": "code",
   "execution_count": 68,
   "metadata": {},
   "outputs": [],
   "source": [
    "doc3 = nlp2(u\"The vaca teaches computer science at University of Ottawa.\")"
   ]
  },
  {
   "cell_type": "code",
   "execution_count": 70,
   "metadata": {},
   "outputs": [
    {
     "name": "stdout",
     "output_type": "stream",
     "text": [
      "0.19774113847673247\n",
      "0.19774113847673247\n",
      "0.19774113847673247\n"
     ]
    }
   ],
   "source": [
    "for doc in [doc1, doc2, doc3]:\n",
    "    vaca = doc[1]\n",
    "    cow = nlp2(u\"cow\")\n",
    "    print(vaca.similarity(cow))"
   ]
  },
  {
   "cell_type": "markdown",
   "metadata": {},
   "source": [
    "EXERCISE \n",
    "Please give an example of your own and let us see what happens ;) :)"
   ]
  },
  {
   "cell_type": "code",
   "execution_count": 30,
   "metadata": {},
   "outputs": [],
   "source": [
    "#Example and code here"
   ]
  },
  {
   "cell_type": "markdown",
   "metadata": {},
   "source": [
    "We can also use SpaCy to compare documents."
   ]
  },
  {
   "cell_type": "code",
   "execution_count": 71,
   "metadata": {},
   "outputs": [],
   "source": [
    "doc1 = nlp(u\"Paris is the largest city in France.\")\n",
    "doc2 = nlp(u\"Bucharest is known as the Paris of the East.\")\n",
    "doc3 = nlp(u\"It is raining cats and dogs.\")"
   ]
  },
  {
   "cell_type": "code",
   "execution_count": 72,
   "metadata": {},
   "outputs": [
    {
     "name": "stdout",
     "output_type": "stream",
     "text": [
      "1.0\n",
      "0.7481934416828289\n",
      "0.3586287872769439\n",
      "0.7481934416828289\n",
      "1.0\n",
      "0.2550422907466565\n",
      "0.3586287872769439\n",
      "0.2550422907466565\n",
      "1.0\n"
     ]
    }
   ],
   "source": [
    "for doc in [doc1, doc2, doc3]:\n",
    "    for other_doc in [doc1, doc2, doc3]:\n",
    "        print(doc.similarity(other_doc))"
   ]
  },
  {
   "cell_type": "code",
   "execution_count": 73,
   "metadata": {},
   "outputs": [],
   "source": [
    "\n",
    "doca = nlp2(u\"Paris is the largest city in France.\")\n",
    "docb = nlp2(u\"Bucharest is known as the Paris of the East.\")\n",
    "docc = nlp2(u\"It is raining cats and dogs.\")"
   ]
  },
  {
   "cell_type": "code",
   "execution_count": 74,
   "metadata": {},
   "outputs": [
    {
     "name": "stdout",
     "output_type": "stream",
     "text": [
      "1.0\n",
      "0.8984887188856118\n",
      "0.6333442927964841\n",
      "0.8984887188856118\n",
      "1.0\n",
      "0.7061499176334926\n",
      "0.6333442927964841\n",
      "0.7061499176334926\n",
      "1.0\n"
     ]
    }
   ],
   "source": [
    "for doc in [doca, docb, docc]:\n",
    "    for other_doc in [doca, docb, docc]:\n",
    "        print(doc.similarity(other_doc))"
   ]
  },
  {
   "cell_type": "markdown",
   "metadata": {},
   "source": [
    "Let us run this on the documents we compared earlier with Sklearn!"
   ]
  },
  {
   "cell_type": "code",
   "execution_count": 75,
   "metadata": {},
   "outputs": [],
   "source": [
    "doc0 = nlp(u\"I am interested in NLP and would like to learn more about vectors and vectorizers for language processing.\")\n",
    "doc1 = nlp(u\"For those who like to experiment with vectors in dealing with various data, it might be useful to work with NLP vectorizers.\")\n",
    "doc2 = nlp(u\"A significant computational experiment involving language will have to involve vectors, so you will want to look into vectorizers.\")\n",
    "doc3 = nlp(u\"Even if you are not interested in NLP, you can use vectors to organize your data.\")"
   ]
  },
  {
   "cell_type": "code",
   "execution_count": 76,
   "metadata": {},
   "outputs": [
    {
     "name": "stdout",
     "output_type": "stream",
     "text": [
      "1.0\n",
      "0.8169793583020156\n",
      "0.7199810896485045\n",
      "0.6825172528269977\n",
      "0.8169793583020156\n",
      "1.0\n",
      "0.7322942251394191\n",
      "0.6457176189427812\n",
      "0.7199810896485045\n",
      "0.7322942251394191\n",
      "1.0\n",
      "0.6836345732313137\n",
      "0.6825172528269977\n",
      "0.6457176189427812\n",
      "0.6836345732313137\n",
      "1.0\n"
     ]
    }
   ],
   "source": [
    "for doc in [doc0, doc1, doc2, doc3]:\n",
    "    for other_doc in [doc0, doc1, doc2, doc3]:\n",
    "        print(doc.similarity(other_doc))"
   ]
  },
  {
   "cell_type": "code",
   "execution_count": 77,
   "metadata": {},
   "outputs": [],
   "source": [
    "doca = nlp2(u\"I am interested in NLP and would like to learn more about vectors and vectorizers for language processing.\")\n",
    "docb = nlp2(u\"For those who like to experiment with vectors in dealing with various data, it might be useful to work with NLP vectorizers.\")\n",
    "docc = nlp2(u\"A significant computational experiment involving language will have to involve vectors, so you will want to look into vectorizers.\")\n",
    "docd = nlp2(u\"Even if you are not interested in NLP, you can use vectors to organize your data.\")"
   ]
  },
  {
   "cell_type": "code",
   "execution_count": 38,
   "metadata": {},
   "outputs": [
    {
     "name": "stdout",
     "output_type": "stream",
     "text": [
      "1.0\n",
      "0.9315390332338347\n",
      "0.9105727247459804\n",
      "0.9144584648616282\n",
      "0.9315390332338347\n",
      "1.0\n",
      "0.9473581913993606\n",
      "0.9411626706881778\n",
      "0.9105727247459804\n",
      "0.9473581913993606\n",
      "1.0\n",
      "0.9350652847589844\n",
      "0.9144584648616282\n",
      "0.9411626706881778\n",
      "0.9350652847589844\n",
      "1.0\n"
     ]
    }
   ],
   "source": [
    "for doc in [doca, docb, docc, docd]:\n",
    "    for other_doc in [doca, docb, docc, docd]:\n",
    "        print(doc.similarity(other_doc))"
   ]
  },
  {
   "cell_type": "markdown",
   "metadata": {},
   "source": [
    "\n",
    "Do we have the means in scikitlearn to compare documents that directly? Let us go back and have a look. "
   ]
  },
  {
   "cell_type": "markdown",
   "metadata": {},
   "source": [
    "\n",
    "The similarity matrix in the NLP--Intro notebook:"
   ]
  },
  {
   "cell_type": "code",
   "execution_count": 39,
   "metadata": {},
   "outputs": [
    {
     "ename": "TypeError",
     "evalue": "'tuple' object is not callable",
     "output_type": "error",
     "traceback": [
      "\u001b[0;31m---------------------------------------------------------------------------\u001b[0m",
      "\u001b[0;31mTypeError\u001b[0m                                 Traceback (most recent call last)",
      "\u001b[0;32m<ipython-input-39-91868120fc3f>\u001b[0m in \u001b[0;36m<module>\u001b[0;34m\u001b[0m\n\u001b[0;32m----> 1\u001b[0;31m [[(1.        ,) (0.23144825,) (0.17254319,) (0.19211725,)]\n\u001b[0m\u001b[1;32m      2\u001b[0m  \u001b[0;34m[\u001b[0m\u001b[0;34m(\u001b[0m\u001b[0;36m0.23144825\u001b[0m\u001b[0;34m,\u001b[0m\u001b[0;34m)\u001b[0m \u001b[0;34m(\u001b[0m\u001b[0;36m1.\u001b[0m        \u001b[0;34m,\u001b[0m\u001b[0;34m)\u001b[0m \u001b[0;34m(\u001b[0m\u001b[0;36m0.11253336\u001b[0m\u001b[0;34m,\u001b[0m\u001b[0;34m)\u001b[0m \u001b[0;34m(\u001b[0m\u001b[0;36m0.298293\u001b[0m  \u001b[0;34m,\u001b[0m\u001b[0;34m)\u001b[0m\u001b[0;34m]\u001b[0m\u001b[0;34m\u001b[0m\u001b[0;34m\u001b[0m\u001b[0m\n\u001b[1;32m      3\u001b[0m  \u001b[0;34m[\u001b[0m\u001b[0;34m(\u001b[0m\u001b[0;36m0.17254319\u001b[0m\u001b[0;34m,\u001b[0m\u001b[0;34m)\u001b[0m \u001b[0;34m(\u001b[0m\u001b[0;36m0.11253336\u001b[0m\u001b[0;34m,\u001b[0m\u001b[0;34m)\u001b[0m \u001b[0;34m(\u001b[0m\u001b[0;36m1.\u001b[0m        \u001b[0;34m,\u001b[0m\u001b[0;34m)\u001b[0m \u001b[0;34m(\u001b[0m\u001b[0;36m0.02081005\u001b[0m\u001b[0;34m,\u001b[0m\u001b[0;34m)\u001b[0m\u001b[0;34m]\u001b[0m\u001b[0;34m\u001b[0m\u001b[0;34m\u001b[0m\u001b[0m\n\u001b[1;32m      4\u001b[0m  [(0.19211725,) (0.298293  ,) (0.02081005,) (1.        ,)]]\n",
      "\u001b[0;31mTypeError\u001b[0m: 'tuple' object is not callable"
     ]
    }
   ],
   "source": [
    "[[(1.        ,) (0.23144825,) (0.17254319,) (0.19211725,)]\n",
    " [(0.23144825,) (1.        ,) (0.11253336,) (0.298293  ,)]\n",
    " [(0.17254319,) (0.11253336,) (1.        ,) (0.02081005,)]\n",
    " [(0.19211725,) (0.298293  ,) (0.02081005,) (1.        ,)]]"
   ]
  },
  {
   "cell_type": "code",
   "execution_count": null,
   "metadata": {},
   "outputs": [],
   "source": []
  },
  {
   "cell_type": "code",
   "execution_count": 78,
   "metadata": {},
   "outputs": [],
   "source": [
    "s1 = \"I am interested in NLP and would like to learn more about vectors and vectorizers for language processing.\"\n",
    "s2 = \"For those who like to experiment with vectors in dealing with various data, it might be useful to work with NLP vectorizers.\"\n",
    "s3 = \"A significant computational experiment involving language will have to involve vectors, so you will want to look into vectorizers.\"\n",
    "s4 = \"Even if you are not interested in NLP, you can use vectors to organize your data.\""
   ]
  },
  {
   "cell_type": "code",
   "execution_count": 79,
   "metadata": {},
   "outputs": [],
   "source": [
    "texts = [\"I am interested in NLP and would like to learn more about vectors and vectorizers for language processing.\", \"For those who like to experiment with vectors in dealing with various data, it might be useful to work with NLP vectorizers.\", \"A significant computational experiment involving language will have to involve vectors, so you will want to look into vectorizers.\", \"Even if you are not interested in NLP, you can use vectors to organize your data.\"]"
   ]
  },
  {
   "cell_type": "code",
   "execution_count": 80,
   "metadata": {},
   "outputs": [],
   "source": [
    "from gensim import corpora\n",
    "from gensim.corpora import Dictionary"
   ]
  },
  {
   "cell_type": "code",
   "execution_count": 81,
   "metadata": {},
   "outputs": [],
   "source": [
    "from spacy.lang.en import English\n",
    "parser = English()"
   ]
  },
  {
   "cell_type": "code",
   "execution_count": 82,
   "metadata": {},
   "outputs": [],
   "source": [
    "def tokenize(text):\n",
    "    lda_tokens = []\n",
    "    tokens = parser(text)\n",
    "    for token in tokens:\n",
    "        if token.orth_.isspace():\n",
    "            continue\n",
    "        elif token.like_url:\n",
    "            lda_tokens.append('URL')\n",
    "        elif token.orth_.startswith('@'):\n",
    "            lda_tokens.append('SCREEN_NAME')\n",
    "        else:\n",
    "            lda_tokens.append(token.lower_)\n",
    "    return lda_tokens"
   ]
  },
  {
   "cell_type": "code",
   "execution_count": 83,
   "metadata": {},
   "outputs": [
    {
     "name": "stdout",
     "output_type": "stream",
     "text": [
      "[nltk_data] Downloading package wordnet to\n",
      "[nltk_data]     /Users/christanasescu/nltk_data...\n",
      "[nltk_data]   Package wordnet is already up-to-date!\n"
     ]
    }
   ],
   "source": [
    "import nltk\n",
    "nltk.download('wordnet')\n",
    "from nltk.corpus import wordnet as wn\n",
    "\n",
    "def get_lemma(word):\n",
    "    lemma = wn.morphy(word)\n",
    "    if lemma is None:\n",
    "        return word\n",
    "    else:\n",
    "        return lemma\n",
    "    \n",
    "from nltk.stem.wordnet import WordNetLemmatizer\n",
    "\n",
    "def get_lemma2(word):\n",
    "    return WordNetLemmatizer().lemmatize(word)"
   ]
  },
  {
   "cell_type": "code",
   "execution_count": 84,
   "metadata": {},
   "outputs": [
    {
     "name": "stdout",
     "output_type": "stream",
     "text": [
      "[nltk_data] Downloading package stopwords to\n",
      "[nltk_data]     /Users/christanasescu/nltk_data...\n",
      "[nltk_data]   Unzipping corpora/stopwords.zip.\n"
     ]
    },
    {
     "data": {
      "text/plain": [
       "True"
      ]
     },
     "execution_count": 84,
     "metadata": {},
     "output_type": "execute_result"
    }
   ],
   "source": [
    "nltk.download('stopwords')"
   ]
  },
  {
   "cell_type": "code",
   "execution_count": 85,
   "metadata": {},
   "outputs": [],
   "source": [
    "en_stop = set(nltk.corpus.stopwords.words('stop_words_poetry.txt'))"
   ]
  },
  {
   "cell_type": "code",
   "execution_count": 87,
   "metadata": {},
   "outputs": [],
   "source": [
    "def prepare_text_for_lda(text):\n",
    "    tokens = tokenize(text)\n",
    "    tokens = [token for token in tokens if len(token) > 0]\n",
    "    tokens = [token for token in tokens if token not in en_stop]\n",
    "    tokens = [get_lemma(token) for token in tokens]\n",
    "    return tokens"
   ]
  },
  {
   "cell_type": "code",
   "execution_count": 88,
   "metadata": {},
   "outputs": [],
   "source": [
    "text_data = []\n",
    "\n",
    "for f in texts:\n",
    "            tokens = prepare_text_for_lda(f)\n",
    "            text_data.append(tokens)\n"
   ]
  },
  {
   "cell_type": "code",
   "execution_count": 89,
   "metadata": {},
   "outputs": [
    {
     "name": "stdout",
     "output_type": "stream",
     "text": [
      "[['i', 'interest', 'nlp', 'like', 'learn', 'more', 'vector', 'vectorizers', 'language', 'processing'], ['who', 'like', 'experiment', 'vector', 'dealing', 'various', 'data', 'might', 'useful', 'work', 'nlp', 'vectorizers'], ['significant', 'computational', 'experiment', 'involve', 'language', 'involve', 'vector', 'you', 'want', 'look', 'vectorizers'], ['even', 'if', 'you', 'not', 'interest', 'nlp', 'you', 'can', 'use', 'vector', 'organize', 'your', 'data']]\n"
     ]
    }
   ],
   "source": [
    "print(text_data)"
   ]
  },
  {
   "cell_type": "code",
   "execution_count": 90,
   "metadata": {},
   "outputs": [],
   "source": [
    "from gensim import corpora\n",
    "from gensim.corpora import Dictionary"
   ]
  },
  {
   "cell_type": "code",
   "execution_count": 91,
   "metadata": {},
   "outputs": [],
   "source": [
    "dictionary = corpora.Dictionary(text_data)"
   ]
  },
  {
   "cell_type": "code",
   "execution_count": 92,
   "metadata": {},
   "outputs": [],
   "source": [
    "corpus = [dictionary.doc2bow(text) for text in text_data]\n",
    "import pickle\n",
    "pickle.dump(corpus, open('corpus.pkl', 'wb'))\n",
    "dictionary.save('dictionary.gensim')"
   ]
  },
  {
   "cell_type": "code",
   "execution_count": 94,
   "metadata": {},
   "outputs": [],
   "source": [
    "import gensim"
   ]
  },
  {
   "cell_type": "code",
   "execution_count": 95,
   "metadata": {},
   "outputs": [],
   "source": [
    "\n",
    "ldamodel = gensim.models.ldamodel.LdaModel(corpus, id2word=dictionary)"
   ]
  },
  {
   "cell_type": "code",
   "execution_count": 96,
   "metadata": {},
   "outputs": [],
   "source": [
    "from gensim import similarities\n",
    "index = similarities.MatrixSimilarity(ldamodel[corpus])"
   ]
  },
  {
   "cell_type": "code",
   "execution_count": 97,
   "metadata": {},
   "outputs": [
    {
     "name": "stdout",
     "output_type": "stream",
     "text": [
      "MatrixSimilarity<4 docs, 97 features>\n"
     ]
    }
   ],
   "source": [
    "print(index)"
   ]
  },
  {
   "cell_type": "code",
   "execution_count": 98,
   "metadata": {},
   "outputs": [],
   "source": [
    "index.save(\"simIndex.index\")"
   ]
  },
  {
   "cell_type": "code",
   "execution_count": 99,
   "metadata": {},
   "outputs": [],
   "source": [
    "\n",
    "s2 = text_data[1]\n",
    "vec_bow = dictionary.doc2bow(s2)"
   ]
  },
  {
   "cell_type": "code",
   "execution_count": 100,
   "metadata": {},
   "outputs": [],
   "source": [
    "vec_lda = ldamodel[vec_bow]"
   ]
  },
  {
   "cell_type": "code",
   "execution_count": 101,
   "metadata": {},
   "outputs": [
    {
     "name": "stdout",
     "output_type": "stream",
     "text": [
      "[(1, 1.0), (0, 0.0), (2, 0.0), (3, 0.0)]\n"
     ]
    }
   ],
   "source": [
    "sims = index[vec_lda]\n",
    "sims = sorted(enumerate(sims), key=lambda item: -item[1])\n",
    "print(sims)"
   ]
  },
  {
   "cell_type": "code",
   "execution_count": null,
   "metadata": {},
   "outputs": [],
   "source": []
  },
  {
   "cell_type": "code",
   "execution_count": 102,
   "metadata": {},
   "outputs": [],
   "source": [
    "import os\n",
    "\n",
    "from os import listdir\n",
    "from os.path import isfile, join"
   ]
  },
  {
   "cell_type": "code",
   "execution_count": 103,
   "metadata": {},
   "outputs": [],
   "source": [
    "home = os.getcwd()"
   ]
  },
  {
   "cell_type": "code",
   "execution_count": 104,
   "metadata": {},
   "outputs": [
    {
     "data": {
      "text/plain": [
       "'/Users/christanasescu'"
      ]
     },
     "execution_count": 104,
     "metadata": {},
     "output_type": "execute_result"
    }
   ],
   "source": [
    "pwd"
   ]
  },
  {
   "cell_type": "code",
   "execution_count": 105,
   "metadata": {},
   "outputs": [],
   "source": [
    "\n",
    "data_dir = os.path.join(home, '/US_Poets_Anthology2/')"
   ]
  },
  {
   "cell_type": "code",
   "execution_count": 106,
   "metadata": {},
   "outputs": [
    {
     "ename": "FileNotFoundError",
     "evalue": "[Errno 2] No such file or directory: '/US_Poets_Anthology2/'",
     "output_type": "error",
     "traceback": [
      "\u001b[0;31m---------------------------------------------------------------------------\u001b[0m",
      "\u001b[0;31mFileNotFoundError\u001b[0m                         Traceback (most recent call last)",
      "\u001b[0;32m<ipython-input-106-9e580a3ef9c6>\u001b[0m in \u001b[0;36m<module>\u001b[0;34m\u001b[0m\n\u001b[1;32m      2\u001b[0m \u001b[0mtext_data\u001b[0m \u001b[0;34m=\u001b[0m \u001b[0;34m[\u001b[0m\u001b[0;34m]\u001b[0m\u001b[0;34m\u001b[0m\u001b[0;34m\u001b[0m\u001b[0m\n\u001b[1;32m      3\u001b[0m \u001b[0;34m\u001b[0m\u001b[0m\n\u001b[0;32m----> 4\u001b[0;31m \u001b[0mfiles\u001b[0m \u001b[0;34m=\u001b[0m \u001b[0;34m[\u001b[0m\u001b[0mf\u001b[0m \u001b[0;32mfor\u001b[0m \u001b[0mf\u001b[0m \u001b[0;32min\u001b[0m \u001b[0mlistdir\u001b[0m\u001b[0;34m(\u001b[0m\u001b[0mdata_dir\u001b[0m\u001b[0;34m)\u001b[0m \u001b[0;32mif\u001b[0m \u001b[0misfile\u001b[0m\u001b[0;34m(\u001b[0m\u001b[0mjoin\u001b[0m\u001b[0;34m(\u001b[0m\u001b[0mdata_dir\u001b[0m\u001b[0;34m,\u001b[0m \u001b[0mf\u001b[0m\u001b[0;34m)\u001b[0m\u001b[0;34m)\u001b[0m\u001b[0;34m]\u001b[0m\u001b[0;34m\u001b[0m\u001b[0;34m\u001b[0m\u001b[0m\n\u001b[0m\u001b[1;32m      5\u001b[0m \u001b[0;34m\u001b[0m\u001b[0m\n\u001b[1;32m      6\u001b[0m \u001b[0;32mfor\u001b[0m \u001b[0mf\u001b[0m \u001b[0;32min\u001b[0m \u001b[0mfiles\u001b[0m\u001b[0;34m:\u001b[0m\u001b[0;34m\u001b[0m\u001b[0;34m\u001b[0m\u001b[0m\n",
      "\u001b[0;31mFileNotFoundError\u001b[0m: [Errno 2] No such file or directory: '/US_Poets_Anthology2/'"
     ]
    }
   ],
   "source": [
    "\n",
    "text_data = []\n",
    "\n",
    "files = [f for f in listdir(data_dir) if isfile(join(data_dir, f))]\n",
    "\n",
    "for f in files:\n",
    "    with open(f) as openf:\n",
    "        for line in openf:\n",
    "            tokens = prepare_text_for_lda(line)\n",
    "            text_data.append(tokens)"
   ]
  },
  {
   "cell_type": "code",
   "execution_count": 107,
   "metadata": {},
   "outputs": [],
   "source": [
    "def get_documents(path):\n",
    "    os.chdir(path)\n",
    "    files = [f for f in listdir(path) if isfile(join(path, f))]\n",
    "    texts = []\n",
    "    count = -1\n",
    "    for f in files:\n",
    "        with codecs.open(f, \"r\", encoding='utf-8', errors = 'ignore') as openf:\n",
    "            count = count + 1\n",
    "            #filelabels[count] = os.path.basename(openf.name)\n",
    "            splitted_lines = openf.read().splitlines()\n",
    "            texts.append(splitted_lines)\n",
    "    #print(filelabels)\n",
    "    return texts"
   ]
  },
  {
   "cell_type": "code",
   "execution_count": 108,
   "metadata": {},
   "outputs": [],
   "source": [
    "TEXTS_DIR = home + \"/DHSI_BC_Publishing_Sphere_CROWD_and_Place/\""
   ]
  },
  {
   "cell_type": "code",
   "execution_count": 109,
   "metadata": {},
   "outputs": [],
   "source": [
    "import codecs"
   ]
  },
  {
   "cell_type": "code",
   "execution_count": 110,
   "metadata": {},
   "outputs": [],
   "source": [
    "documents = get_documents(TEXTS_DIR)"
   ]
  },
  {
   "cell_type": "code",
   "execution_count": 111,
   "metadata": {},
   "outputs": [
    {
     "name": "stdout",
     "output_type": "stream",
     "text": [
      "['Bibiana:', 'Wanting intimacy with one’s perpetrator is no sickness. Wanting to create a cocoon of normalcy when one is subjected to a crime is no syndrome.', '', '', '*', '', '', '', 'Who is whose stalker.', '(Collision of consonants. Damn. Our sex is based on rhythm!)', '', '', '*', '', '', '', 'The triangle-bend’s', 'center of gravity,', 'forelimb or hindlimb', '', 'Who beats who', 'in the gathering', '', 'The first', 'becomes the second rideress', 'The second', 'becomes the first beforess', '', 'The parasitical line reports', 'to the system operator', '', 'in the dressage parade', 'of hyper-independence', '', 'the Trojan deathdance of skeletons:', '', 'clearly transparent', 'goes on three tracks,', '', 'the charge', 'open', 'stop', ' ', '', '', '*', '', '', '', 'The middle-class-moronic', 'immune defense', 'slimey bounces', 'with the yellow side', 'always up', '', 'My little barn environment', 'in the crush', 'of your incredible', 'impact', '', 'Alternative ending:', 'slit my own throat', 'at the Grand Hotell', 'with two l’s', '', 'in Bollnäs', '', '', '*', '', '', '', 'The predator circles dimly', 'around the watering hole', '', 'Retreat', 'to the fragile', 'wasp nest', '', 'for a refill of', 'trash-paper', 'cleptoparasite', '', 'home-visiting', 'one-man-army,', 'woodpecker', 'in the holiness', '', 'We’ve done it', 'a whole lot of fucking times', 'in the Horse’s bed', '', 'The fleeing prey', 'keeps its mouth shut', 'despite intense pain', '', '', '*', '', '', '', 'I wear a summer dress', 'senselessly fluttering', 'the rarest swallowtails,', 'alias:', '', 'to emulate the protocol', 'in your pupa', '', '', '*', '', '', '', 'The lipstick', 'and my body parts', 'embezzled in the relief of', 'Incredible Deniability', '', 'You have no idea', 'what beautiful breasts I have', 'What pale hands', 'slink sensually through nets', '', 'The free net and the dark one', 'eternally lonely', 'in my algorithmic sequence', 'a misconfigured', 'open proxy server', '', 'when the black box', 'sinks softly', 'down to the bottom of the sea', 'outside of China', '', '', '*', '', '', '', 'The change log', 'of the current . . . ', 'The perfect storm,', 'reverse engineering', '', 'The choking spirit', 'of the current systems', 'It is not called atmosphere,', 'it’s called utmost fear', '', 'I want more.', 'I don’t want less.', '', 'But a black key', 'is not script', 'in the seating arrangement.', '', '', '*', '', '', '', 'The machines are on,', 'the source codes peck.', 'There you are no longer loved,', 'you’re observed.', 'Because the hacker hierarchy', 'is a meritocracy,', 'Respect is earned through results.', 'Not talk.', '', '', '*', '', '', '', 'Who is whose pain.', 'Your name rests in peace.', 'My name—', 'Deep down', 'a hacker is never named', 'the same thing', 'twice.', '', '', '*', '', '', '', 'Watch it', 'or I’ll call you scriptkiddie', 'And then, my love,', 'smoked in the fumes of contempt,', 'you will no longer', 'be a starfish', '', '', '*', '', '', '', 'There is a female freedom. The drone will boil. The rabbit in Le Creuset.']\n"
     ]
    }
   ],
   "source": [
    "print(documents[0])"
   ]
  },
  {
   "cell_type": "code",
   "execution_count": 112,
   "metadata": {},
   "outputs": [],
   "source": [
    "from string import punctuation\n",
    "\n",
    "def punctuation_removal(documents):\n",
    "        new_documents = []\n",
    "        exclude = set(punctuation)\n",
    "        for document in documents:\n",
    "            new_document = \"\"\n",
    "            for string_ in document:\n",
    "                string_no_punc = ''.join(ch for ch in string_ if ch not in exclude)\n",
    "                lower_string = string_no_punc.lower()\n",
    "                new_document = \" \".join([new_document, lower_string])\n",
    "            # remove extra spaces in the text\n",
    "            new_document = ' '.join(new_document.split())\n",
    "            # use strip to remove leading and trailing spaces\n",
    "            new_documents.append(new_document.strip())\n",
    "\n",
    "        return new_documents"
   ]
  },
  {
   "cell_type": "code",
   "execution_count": 113,
   "metadata": {},
   "outputs": [],
   "source": [
    "new_documents = punctuation_removal(documents)"
   ]
  },
  {
   "cell_type": "code",
   "execution_count": 114,
   "metadata": {},
   "outputs": [
    {
     "data": {
      "text/plain": [
       "'bibiana wanting intimacy with one’s perpetrator is no sickness wanting to create a cocoon of normalcy when one is subjected to a crime is no syndrome who is whose stalker collision of consonants damn our sex is based on rhythm the trianglebend’s center of gravity forelimb or hindlimb who beats who in the gathering the first becomes the second rideress the second becomes the first beforess the parasitical line reports to the system operator in the dressage parade of hyperindependence the trojan deathdance of skeletons clearly transparent goes on three tracks the charge open stop the middleclassmoronic immune defense slimey bounces with the yellow side always up my little barn environment in the crush of your incredible impact alternative ending slit my own throat at the grand hotell with two l’s in bollnäs the predator circles dimly around the watering hole retreat to the fragile wasp nest for a refill of trashpaper cleptoparasite homevisiting onemanarmy woodpecker in the holiness we’ve done it a whole lot of fucking times in the horse’s bed the fleeing prey keeps its mouth shut despite intense pain i wear a summer dress senselessly fluttering the rarest swallowtails alias to emulate the protocol in your pupa the lipstick and my body parts embezzled in the relief of incredible deniability you have no idea what beautiful breasts i have what pale hands slink sensually through nets the free net and the dark one eternally lonely in my algorithmic sequence a misconfigured open proxy server when the black box sinks softly down to the bottom of the sea outside of china the change log of the current the perfect storm reverse engineering the choking spirit of the current systems it is not called atmosphere it’s called utmost fear i want more i don’t want less but a black key is not script in the seating arrangement the machines are on the source codes peck there you are no longer loved you’re observed because the hacker hierarchy is a meritocracy respect is earned through results not talk who is whose pain your name rests in peace my name— deep down a hacker is never named the same thing twice watch it or i’ll call you scriptkiddie and then my love smoked in the fumes of contempt you will no longer be a starfish there is a female freedom the drone will boil the rabbit in le creuset'"
      ]
     },
     "execution_count": 114,
     "metadata": {},
     "output_type": "execute_result"
    }
   ],
   "source": [
    "new_documents[0]"
   ]
  },
  {
   "cell_type": "code",
   "execution_count": 115,
   "metadata": {},
   "outputs": [],
   "source": [
    "text_data = []\n",
    "\n",
    "for document in new_documents:\n",
    "    tokens = prepare_text_for_lda(document)\n",
    "    text_data.append(tokens)"
   ]
  },
  {
   "cell_type": "code",
   "execution_count": 116,
   "metadata": {},
   "outputs": [],
   "source": [
    "dictionary = corpora.Dictionary(text_data)"
   ]
  },
  {
   "cell_type": "code",
   "execution_count": 117,
   "metadata": {},
   "outputs": [],
   "source": [
    "corpus = [dictionary.doc2bow(text) for text in text_data]\n",
    "import pickle\n",
    "pickle.dump(corpus, open('corpus.pkl', 'wb'))\n",
    "dictionary.save('dictionary.gensim')\n",
    "\n",
    "\n",
    "ldamodel = gensim.models.ldamodel.LdaModel(corpus, id2word=dictionary)\n",
    "\n",
    "from gensim import similarities\n",
    "index = similarities.MatrixSimilarity(ldamodel[corpus])"
   ]
  },
  {
   "cell_type": "code",
   "execution_count": 118,
   "metadata": {},
   "outputs": [],
   "source": [
    "index.save(\"simIndex.index\")"
   ]
  },
  {
   "cell_type": "code",
   "execution_count": 119,
   "metadata": {},
   "outputs": [
    {
     "data": {
      "text/plain": [
       "['bibiana',\n",
       " 'want',\n",
       " 'intimacy',\n",
       " 'one',\n",
       " '’s',\n",
       " 'perpetrator',\n",
       " 'no',\n",
       " 'sickness',\n",
       " 'want',\n",
       " 'create',\n",
       " 'cocoon',\n",
       " 'normalcy',\n",
       " 'when',\n",
       " 'one',\n",
       " 'subject',\n",
       " 'crime',\n",
       " 'no',\n",
       " 'syndrome',\n",
       " 'who',\n",
       " 'whose',\n",
       " 'stalker',\n",
       " 'collision',\n",
       " 'consonant',\n",
       " 'damn',\n",
       " 'our',\n",
       " 'sex',\n",
       " 'base',\n",
       " 'rhythm',\n",
       " 'trianglebend',\n",
       " '’s',\n",
       " 'center',\n",
       " 'gravity',\n",
       " 'forelimb',\n",
       " 'hindlimb',\n",
       " 'who',\n",
       " 'beats',\n",
       " 'who',\n",
       " 'gathering',\n",
       " 'first',\n",
       " 'become',\n",
       " 'second',\n",
       " 'rideress',\n",
       " 'second',\n",
       " 'become',\n",
       " 'first',\n",
       " 'beforess',\n",
       " 'parasitical',\n",
       " 'line',\n",
       " 'report',\n",
       " 'system',\n",
       " 'operator',\n",
       " 'dressage',\n",
       " 'parade',\n",
       " 'hyperindependence',\n",
       " 'trojan',\n",
       " 'deathdance',\n",
       " 'skeleton',\n",
       " 'clearly',\n",
       " 'transparent',\n",
       " 'go',\n",
       " 'three',\n",
       " 'track',\n",
       " 'charge',\n",
       " 'open',\n",
       " 'stop',\n",
       " 'middleclassmoronic',\n",
       " 'immune',\n",
       " 'defense',\n",
       " 'slimey',\n",
       " 'bounce',\n",
       " 'yellow',\n",
       " 'side',\n",
       " 'always',\n",
       " 'my',\n",
       " 'little',\n",
       " 'barn',\n",
       " 'environment',\n",
       " 'crush',\n",
       " 'your',\n",
       " 'incredible',\n",
       " 'impact',\n",
       " 'alternative',\n",
       " 'ending',\n",
       " 'slit',\n",
       " 'my',\n",
       " 'own',\n",
       " 'throat',\n",
       " 'grand',\n",
       " 'hotell',\n",
       " 'two',\n",
       " '’s',\n",
       " 'bollnäs',\n",
       " 'predator',\n",
       " 'circle',\n",
       " 'dimly',\n",
       " 'around',\n",
       " 'watering',\n",
       " 'hole',\n",
       " 'retreat',\n",
       " 'fragile',\n",
       " 'wasp',\n",
       " 'nest',\n",
       " 'refill',\n",
       " 'trashpaper',\n",
       " 'cleptoparasite',\n",
       " 'homevisiting',\n",
       " 'onemanarmy',\n",
       " 'woodpecker',\n",
       " 'holiness',\n",
       " '’ve',\n",
       " 'whole',\n",
       " 'lot',\n",
       " 'fucking',\n",
       " 'times',\n",
       " 'horse',\n",
       " '’s',\n",
       " 'bed',\n",
       " 'flee',\n",
       " 'prey',\n",
       " 'keep',\n",
       " 'mouth',\n",
       " 'shut',\n",
       " 'despite',\n",
       " 'intense',\n",
       " 'pain',\n",
       " 'i',\n",
       " 'wear',\n",
       " 'summer',\n",
       " 'dress',\n",
       " 'senselessly',\n",
       " 'fluttering',\n",
       " 'rare',\n",
       " 'swallowtail',\n",
       " 'alias',\n",
       " 'emulate',\n",
       " 'protocol',\n",
       " 'your',\n",
       " 'pupa',\n",
       " 'lipstick',\n",
       " 'my',\n",
       " 'body',\n",
       " 'parts',\n",
       " 'embezzle',\n",
       " 'relief',\n",
       " 'incredible',\n",
       " 'deniability',\n",
       " 'you',\n",
       " 'no',\n",
       " 'idea',\n",
       " 'what',\n",
       " 'beautiful',\n",
       " 'breast',\n",
       " 'i',\n",
       " 'what',\n",
       " 'pale',\n",
       " 'hands',\n",
       " 'slink',\n",
       " 'sensually',\n",
       " 'net',\n",
       " 'free',\n",
       " 'net',\n",
       " 'dark',\n",
       " 'one',\n",
       " 'eternally',\n",
       " 'lonely',\n",
       " 'my',\n",
       " 'algorithmic',\n",
       " 'sequence',\n",
       " 'misconfigured',\n",
       " 'open',\n",
       " 'proxy',\n",
       " 'server',\n",
       " 'when',\n",
       " 'black',\n",
       " 'box',\n",
       " 'sink',\n",
       " 'softly',\n",
       " 'down',\n",
       " 'bottom',\n",
       " 'sea',\n",
       " 'outside',\n",
       " 'china',\n",
       " 'change',\n",
       " 'log',\n",
       " 'current',\n",
       " 'perfect',\n",
       " 'storm',\n",
       " 'reverse',\n",
       " 'engineering',\n",
       " 'choking',\n",
       " 'spirit',\n",
       " 'current',\n",
       " 'system',\n",
       " 'not',\n",
       " 'call',\n",
       " 'atmosphere',\n",
       " '’s',\n",
       " 'call',\n",
       " 'utmost',\n",
       " 'fear',\n",
       " 'i',\n",
       " 'want',\n",
       " 'more',\n",
       " 'i',\n",
       " 'do',\n",
       " 'n’t',\n",
       " 'want',\n",
       " 'le',\n",
       " 'but',\n",
       " 'black',\n",
       " 'key',\n",
       " 'not',\n",
       " 'script',\n",
       " 'seating',\n",
       " 'arrangement',\n",
       " 'machine',\n",
       " 'source',\n",
       " 'code',\n",
       " 'peck',\n",
       " 'there',\n",
       " 'you',\n",
       " 'no',\n",
       " 'longer',\n",
       " 'love',\n",
       " 'you',\n",
       " '’re',\n",
       " 'observe',\n",
       " 'because',\n",
       " 'hacker',\n",
       " 'hierarchy',\n",
       " 'meritocracy',\n",
       " 'respect',\n",
       " 'earn',\n",
       " 'result',\n",
       " 'not',\n",
       " 'talk',\n",
       " 'who',\n",
       " 'whose',\n",
       " 'pain',\n",
       " 'your',\n",
       " 'name',\n",
       " 'rest',\n",
       " 'peace',\n",
       " 'my',\n",
       " 'name—',\n",
       " 'deep',\n",
       " 'down',\n",
       " 'hacker',\n",
       " 'never',\n",
       " 'name',\n",
       " 'same',\n",
       " 'thing',\n",
       " 'twice',\n",
       " 'watch',\n",
       " 'i',\n",
       " '’ll',\n",
       " 'call',\n",
       " 'you',\n",
       " 'scriptkiddie',\n",
       " 'my',\n",
       " 'love',\n",
       " 'smoke',\n",
       " 'fumes',\n",
       " 'contempt',\n",
       " 'you',\n",
       " 'no',\n",
       " 'longer',\n",
       " 'starfish',\n",
       " 'there',\n",
       " 'female',\n",
       " 'freedom',\n",
       " 'drone',\n",
       " 'boil',\n",
       " 'rabbit',\n",
       " 'le',\n",
       " 'creuset']"
      ]
     },
     "execution_count": 119,
     "metadata": {},
     "output_type": "execute_result"
    }
   ],
   "source": [
    "text_data[0]"
   ]
  },
  {
   "cell_type": "code",
   "execution_count": 121,
   "metadata": {},
   "outputs": [],
   "source": [
    "p0 = text_data[0]"
   ]
  },
  {
   "cell_type": "code",
   "execution_count": 122,
   "metadata": {},
   "outputs": [
    {
     "name": "stdout",
     "output_type": "stream",
     "text": [
      "[(0, 1.0), (243, 1.0), (296, 1.0), (348, 1.0), (221, 0.9997568), (28, 0.9207197), (218, 0.65173715), (390, 0.2662965), (222, 0.09138693), (9, 0.019015042), (199, 0.013418684), (1, 0.0), (2, 0.0), (3, 0.0), (4, 0.0), (5, 0.0), (6, 0.0), (7, 0.0), (8, 0.0), (10, 0.0), (11, 0.0), (12, 0.0), (13, 0.0), (14, 0.0), (15, 0.0), (16, 0.0), (17, 0.0), (18, 0.0), (19, 0.0), (20, 0.0), (21, 0.0), (22, 0.0), (23, 0.0), (24, 0.0), (25, 0.0), (26, 0.0), (27, 0.0), (29, 0.0), (30, 0.0), (31, 0.0), (32, 0.0), (33, 0.0), (34, 0.0), (35, 0.0), (36, 0.0), (37, 0.0), (38, 0.0), (39, 0.0), (40, 0.0), (41, 0.0), (42, 0.0), (43, 0.0), (44, 0.0), (45, 0.0), (46, 0.0), (47, 0.0), (48, 0.0), (49, 0.0), (50, 0.0), (51, 0.0), (52, 0.0), (53, 0.0), (54, 0.0), (55, 0.0), (56, 0.0), (57, 0.0), (58, 0.0), (59, 0.0), (60, 0.0), (61, 0.0), (62, 0.0), (63, 0.0), (64, 0.0), (65, 0.0), (66, 0.0), (67, 0.0), (68, 0.0), (69, 0.0), (70, 0.0), (71, 0.0), (72, 0.0), (73, 0.0), (74, 0.0), (75, 0.0), (76, 0.0), (77, 0.0), (78, 0.0), (79, 0.0), (80, 0.0), (81, 0.0), (82, 0.0), (83, 0.0), (84, 0.0), (85, 0.0), (86, 0.0), (87, 0.0), (88, 0.0), (89, 0.0), (90, 0.0), (91, 0.0), (92, 0.0), (93, 0.0), (94, 0.0), (95, 0.0), (96, 0.0), (97, 0.0), (98, 0.0), (99, 0.0), (100, 0.0), (101, 0.0), (102, 0.0), (103, 0.0), (104, 0.0), (105, 0.0), (106, 0.0), (107, 0.0), (108, 0.0), (109, 0.0), (110, 0.0), (111, 0.0), (112, 0.0), (113, 0.0), (114, 0.0), (115, 0.0), (116, 0.0), (117, 0.0), (118, 0.0), (119, 0.0), (120, 0.0), (121, 0.0), (122, 0.0), (123, 0.0), (124, 0.0), (125, 0.0), (126, 0.0), (127, 0.0), (128, 0.0), (129, 0.0), (130, 0.0), (131, 0.0), (132, 0.0), (133, 0.0), (134, 0.0), (135, 0.0), (136, 0.0), (137, 0.0), (138, 0.0), (139, 0.0), (140, 0.0), (141, 0.0), (142, 0.0), (143, 0.0), (144, 0.0), (145, 0.0), (146, 0.0), (147, 0.0), (148, 0.0), (149, 0.0), (150, 0.0), (151, 0.0), (152, 0.0), (153, 0.0), (154, 0.0), (155, 0.0), (156, 0.0), (157, 0.0), (158, 0.0), (159, 0.0), (160, 0.0), (161, 0.0), (162, 0.0), (163, 0.0), (164, 0.0), (165, 0.0), (166, 0.0), (167, 0.0), (168, 0.0), (169, 0.0), (170, 0.0), (171, 0.0), (172, 0.0), (173, 0.0), (174, 0.0), (175, 0.0), (176, 0.0), (177, 0.0), (178, 0.0), (179, 0.0), (180, 0.0), (181, 0.0), (182, 0.0), (183, 0.0), (184, 0.0), (185, 0.0), (186, 0.0), (187, 0.0), (188, 0.0), (189, 0.0), (190, 0.0), (191, 0.0), (192, 0.0), (193, 0.0), (194, 0.0), (195, 0.0), (196, 0.0), (197, 0.0), (198, 0.0), (200, 0.0), (201, 0.0), (202, 0.0), (203, 0.0), (204, 0.0), (205, 0.0), (206, 0.0), (207, 0.0), (208, 0.0), (209, 0.0), (210, 0.0), (211, 0.0), (212, 0.0), (213, 0.0), (214, 0.0), (215, 0.0), (216, 0.0), (217, 0.0), (219, 0.0), (220, 0.0), (223, 0.0), (224, 0.0), (225, 0.0), (226, 0.0), (227, 0.0), (228, 0.0), (229, 0.0), (230, 0.0), (231, 0.0), (232, 0.0), (233, 0.0), (234, 0.0), (235, 0.0), (236, 0.0), (237, 0.0), (238, 0.0), (239, 0.0), (240, 0.0), (241, 0.0), (242, 0.0), (244, 0.0), (245, 0.0), (246, 0.0), (247, 0.0), (248, 0.0), (249, 0.0), (250, 0.0), (251, 0.0), (252, 0.0), (253, 0.0), (254, 0.0), (255, 0.0), (256, 0.0), (257, 0.0), (258, 0.0), (259, 0.0), (260, 0.0), (261, 0.0), (262, 0.0), (263, 0.0), (264, 0.0), (265, 0.0), (266, 0.0), (267, 0.0), (268, 0.0), (269, 0.0), (270, 0.0), (271, 0.0), (272, 0.0), (273, 0.0), (274, 0.0), (275, 0.0), (276, 0.0), (277, 0.0), (278, 0.0), (279, 0.0), (280, 0.0), (281, 0.0), (282, 0.0), (283, 0.0), (284, 0.0), (285, 0.0), (286, 0.0), (287, 0.0), (288, 0.0), (289, 0.0), (290, 0.0), (291, 0.0), (292, 0.0), (293, 0.0), (294, 0.0), (295, 0.0), (297, 0.0), (298, 0.0), (299, 0.0), (300, 0.0), (301, 0.0), (302, 0.0), (303, 0.0), (304, 0.0), (305, 0.0), (306, 0.0), (307, 0.0), (308, 0.0), (309, 0.0), (310, 0.0), (311, 0.0), (312, 0.0), (313, 0.0), (314, 0.0), (315, 0.0), (316, 0.0), (317, 0.0), (318, 0.0), (319, 0.0), (320, 0.0), (321, 0.0), (322, 0.0), (323, 0.0), (324, 0.0), (325, 0.0), (326, 0.0), (327, 0.0), (328, 0.0), (329, 0.0), (330, 0.0), (331, 0.0), (332, 0.0), (333, 0.0), (334, 0.0), (335, 0.0), (336, 0.0), (337, 0.0), (338, 0.0), (339, 0.0), (340, 0.0), (341, 0.0), (342, 0.0), (343, 0.0), (344, 0.0), (345, 0.0), (346, 0.0), (347, 0.0), (349, 0.0), (350, 0.0), (351, 0.0), (352, 0.0), (353, 0.0), (354, 0.0), (355, 0.0), (356, 0.0), (357, 0.0), (358, 0.0), (359, 0.0), (360, 0.0), (361, 0.0), (362, 0.0), (363, 0.0), (364, 0.0), (365, 0.0), (366, 0.0), (367, 0.0), (368, 0.0), (369, 0.0), (370, 0.0), (371, 0.0), (372, 0.0), (373, 0.0), (374, 0.0), (375, 0.0), (376, 0.0), (377, 0.0), (378, 0.0), (379, 0.0), (380, 0.0), (381, 0.0), (382, 0.0), (383, 0.0), (384, 0.0), (385, 0.0), (386, 0.0), (387, 0.0), (388, 0.0), (389, 0.0), (391, 0.0), (392, 0.0), (393, 0.0), (394, 0.0), (395, 0.0), (396, 0.0), (397, 0.0), (398, 0.0), (399, 0.0), (400, 0.0)]\n"
     ]
    }
   ],
   "source": [
    "\n",
    "\n",
    "vec_bow = dictionary.doc2bow(p0)\n",
    "\n",
    "vec_lda = ldamodel[vec_bow]\n",
    "\n",
    "sims = index[vec_lda]\n",
    "sims = sorted(enumerate(sims), key=lambda item: -item[1])\n",
    "print(sims)"
   ]
  },
  {
   "cell_type": "code",
   "execution_count": null,
   "metadata": {},
   "outputs": [],
   "source": []
  },
  {
   "cell_type": "code",
   "execution_count": null,
   "metadata": {},
   "outputs": [],
   "source": []
  },
  {
   "cell_type": "markdown",
   "metadata": {},
   "source": [
    "References\n",
    "Mikolov, Tomas, et al. 2013. \"Distributed Representations of Words and Phrases and their Compositionality\" \n",
    "Le, Quoc and Mikolov, Tomas. 2014. \"Distributed Representations of Sentences and Documents\n",
    "SpaCy. https://spacy.io/\n",
    "TensorFlow, \"Vector Representations of Words\"\n",
    "Brownlee, Jason. 2017. Machine Learning Mastery"
   ]
  }
 ],
 "metadata": {
  "kernelspec": {
   "display_name": "Python 3",
   "language": "python",
   "name": "python3"
  },
  "language_info": {
   "codemirror_mode": {
    "name": "ipython",
    "version": 3
   },
   "file_extension": ".py",
   "mimetype": "text/x-python",
   "name": "python",
   "nbconvert_exporter": "python",
   "pygments_lexer": "ipython3",
   "version": "3.7.6"
  }
 },
 "nbformat": 4,
 "nbformat_minor": 2
}
