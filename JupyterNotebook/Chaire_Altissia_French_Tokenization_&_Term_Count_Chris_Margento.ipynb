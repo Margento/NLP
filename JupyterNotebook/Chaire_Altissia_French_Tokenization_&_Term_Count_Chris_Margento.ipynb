{
 "cells": [
  {
   "cell_type": "code",
   "execution_count": 2,
   "metadata": {},
   "outputs": [],
   "source": [
    "import re\n",
    "import numpy as np\n",
    "\n",
    "from pprint import pprint\n",
    "from nltk.tokenize import sent_tokenize, word_tokenize\n",
    "import os\n",
    "#The OS module in Python provides a way of using operating system dependent functionality. \n",
    "#The functions that the OS module provides allows you to interface with the underlying operating system \n",
    "#that Python is running on – be that Windows, Mac or Linux.\n",
    "\n",
    "from os import listdir\n",
    "from os.path import isfile, join\n"
   ]
  },
  {
   "cell_type": "code",
   "execution_count": 3,
   "metadata": {},
   "outputs": [
    {
     "name": "stderr",
     "output_type": "stream",
     "text": [
      "[nltk_data] Downloading package stopwords to\n",
      "[nltk_data]     /Users/christanasescu/nltk_data...\n",
      "[nltk_data]   Unzipping corpora/stopwords.zip.\n"
     ]
    },
    {
     "data": {
      "text/plain": [
       "True"
      ]
     },
     "execution_count": 3,
     "metadata": {},
     "output_type": "execute_result"
    }
   ],
   "source": [
    "import nltk as nltk \n",
    "nltk.download('stopwords')"
   ]
  },
  {
   "cell_type": "code",
   "execution_count": 4,
   "metadata": {},
   "outputs": [],
   "source": [
    "stopwords = nltk.corpus.stopwords.words('french')\n",
    "\n",
    "stopwords.append('’')\n",
    "stopwords.append('«')\n",
    "stopwords.append('»')"
   ]
  },
  {
   "cell_type": "code",
   "execution_count": 5,
   "metadata": {},
   "outputs": [],
   "source": [
    "def tokenize(text):\n",
    "    tokens = word_tokenize(text)\n",
    "    tokens = _pre_clean(tokens)\n",
    "    tokens = [token for token in tokens if len(token) > 2]\n",
    "    tokens = [token for token in tokens if token not in stopwords]\n",
    "    #tokens = [get_lemma(token) for token in tokens]\n",
    "    return tokens"
   ]
  },
  {
   "cell_type": "code",
   "execution_count": 6,
   "metadata": {},
   "outputs": [],
   "source": [
    "def _pre_clean(list_of_text):\n",
    "        '''\n",
    "        preliminary cleaning of the text\n",
    "        - remove new line character i.e. \\n or \\r\n",
    "        - remove tabs i.e. \\t\n",
    "        - remove extra spaces\n",
    "        '''\n",
    "        cleaned_list = []\n",
    "        for text in list_of_text:\n",
    "            # print(\"original:\", text)\n",
    "            text = text.replace('\\\\n', ' ')\n",
    "            text = text.replace('\\\\r', ' ')\n",
    "            text = text.replace('\\\\t', ' ')\n",
    "            pattern = re.compile(r'\\s+')\n",
    "            text = re.sub(pattern, ' ', text)\n",
    "            text = text.strip()\n",
    "            text = text.lower()\n",
    "            # check for empty strings\n",
    "            if text != '' and text is not None:\n",
    "                cleaned_list.append(text)\n",
    "\n",
    "        return cleaned_list"
   ]
  },
  {
   "cell_type": "code",
   "execution_count": 7,
   "metadata": {},
   "outputs": [
    {
     "data": {
      "text/plain": [
       "'/Users/christanasescu'"
      ]
     },
     "execution_count": 7,
     "metadata": {},
     "output_type": "execute_result"
    }
   ],
   "source": [
    "pwd"
   ]
  },
  {
   "cell_type": "code",
   "execution_count": 8,
   "metadata": {},
   "outputs": [],
   "source": [
    "\n",
    "HOME = os.getcwd()"
   ]
  },
  {
   "cell_type": "code",
   "execution_count": 9,
   "metadata": {},
   "outputs": [
    {
     "name": "stdout",
     "output_type": "stream",
     "text": [
      "{0: 'bar_max_elskamp.txt', 1: 'bergen_lumieres_xiv.txt', 2: 'de_rijcke_ma_defectuosite.txt', 3: 'mer_charles_ducal_trans_pierre_geron_et_al.txt', 4: 'vielle_bruxelles.txt', 5: 'wouters_memorial.txt'}\n"
     ]
    }
   ],
   "source": [
    "TEXTS_DIR = HOME + \"/Chaire_Altissia_0/\"\n",
    "\n",
    "filelabels = {}\n",
    "\n",
    "texts_data = []\n",
    "\n",
    "files = [f for f in os.listdir(TEXTS_DIR) if os.path.isfile(os.path.join(TEXTS_DIR, f))]\n",
    "\n",
    "import string\n",
    "from string import punctuation\n",
    "\n",
    "remove_punct_map = dict.fromkeys(map(ord, string.punctuation))\n",
    "\n",
    "tokens_total = []\n",
    "\n",
    "count = -1\n",
    " \n",
    "os.chdir(TEXTS_DIR)\n",
    "    \n",
    "for f in files:\n",
    "    #os.chdir(TEXTS_DIR)\n",
    "    with open(f, \"r\", encoding='utf-8', errors = 'ignore') as openf:\n",
    "        tokens = []\n",
    "        count = count + 1\n",
    "        filelabels[count] = os.path.basename(openf.name)\n",
    "        for line in openf:\n",
    "            sent_text = nltk.sent_tokenize(line)\n",
    "            for sentence in sent_text:\n",
    "                tokens1 = tokenize(sentence)\n",
    "                tokens1 = [item.translate(remove_punct_map)\n",
    "                      for item in tokens1]\n",
    "                #filter_object = filter(lambda x: x != \"\", tokens1)\n",
    "                tokens1 = [x for x in tokens1 if x!= \"\"]\n",
    "                for token in tokens1:\n",
    "                    tokens.append(token)\n",
    "                    tokens_total.append(token)\n",
    "                #if random.random() > .99:\n",
    "                #print(tokens)\n",
    "    #print(tokens_total)\n",
    "    texts_data.append(tokens)\n",
    "\n",
    "print(filelabels)"
   ]
  },
  {
   "cell_type": "code",
   "execution_count": 10,
   "metadata": {},
   "outputs": [
    {
     "data": {
      "text/plain": [
       "1950"
      ]
     },
     "execution_count": 10,
     "metadata": {},
     "output_type": "execute_result"
    }
   ],
   "source": [
    "\n",
    "len(tokens_total)"
   ]
  },
  {
   "cell_type": "code",
   "execution_count": 11,
   "metadata": {},
   "outputs": [],
   "source": [
    "tokens_total = [x for x in tokens_total if x not in stopwords]"
   ]
  },
  {
   "cell_type": "code",
   "execution_count": 12,
   "metadata": {},
   "outputs": [
    {
     "data": {
      "text/plain": [
       "1950"
      ]
     },
     "execution_count": 12,
     "metadata": {},
     "output_type": "execute_result"
    }
   ],
   "source": [
    "\n",
    "len(tokens_total)"
   ]
  },
  {
   "cell_type": "code",
   "execution_count": 13,
   "metadata": {},
   "outputs": [],
   "source": [
    "from collections import Counter\n",
    "\n",
    "Count_total = Counter(tokens_total)"
   ]
  },
  {
   "cell_type": "code",
   "execution_count": 14,
   "metadata": {},
   "outputs": [
    {
     "name": "stdout",
     "output_type": "stream",
     "text": [
      "Counter({'bruxelles': 33, 'plus': 16, 'sans': 14, 'comme': 11, 'entre': 10, 'ville': 9, 'yeux': 7, 'vie': 7, 'mer': 7, 'heures': 7, 'parle': 7, 'fait': 7, 'temps': 7, 'encore': 7, 'jour': 6, 'ciel': 6, 'langue': 6, 'leurs': 6, 'chaque': 6, 'toujours': 6, 'brussel': 6, 'monsieur': 5, 'sous': 5, 'amante': 5, 'tous': 5, 'charnière': 5, 'corps': 5, 'jours': 5, 'passe': 5, 'faut': 5, 'non': 5, 'faim': 5, 'dit': 5, 'ying': 4, 'thé': 4, 'doigts': 4, 'feu': 4, 'ceux': 4, 'place': 4, 'mère': 4, 'terre': 4, 'ferme': 4, 'nul': 4, 'chair': 4, 'main': 4, 'présent': 4, 'monde': 4, 'celui': 4, 'toute': 4, 'tête': 4, 'vers': 4, 'jai': 4, 'dont': 4, 'tout': 4, 'rien': 4, 'vend': 3, 'bout': 3, 'bois': 3, 'lune': 3, 'front': 3, 'tandis': 3, 'bien': 3, 'autour': 3, 'amour': 3, 'dieu': 3, 'pierre': 3, 'bouche': 3, 'lumière': 3, 'bras': 3, 'ventre': 3, 'dépose': 3, 'hors': 3, 'jamais': 3, 'contre': 3, 'mains': 3, 'larmes': 3, 'voyelles': 3, 'estce': 3, 'lorsque': 3, 'jardins': 3, 'juste': 3, 'écrit': 3, 'nuit': 3, 'visages': 3, 'puis': 3, 'cest': 3, 'pieds': 3, 'hiver': 3, 'eau': 3, 'dis': 3, 'poèmes': 3, 'quatorze': 3, 'loin': 3, 'cent': 3, 'libre': 3, 'mauvais': 3, 'dire': 3, 'institutrice': 3, 'après': 3, 'ora': 3, 'labora': 3, 'pascal': 3, 'vent': 3, 'peu': 3, 'gezelle': 3, 'dune': 3, 'quil': 3, 'joie': 3, 'lextase': 3, 'fois': 3, 'saké': 2, 'dos': 2, 'dents': 2, 'noir': 2, 'madame': 2, 'yiang': 2, 'fin': 2, 'nid': 2, 'courir': 2, 'hommes': 2, 'ami': 2, 'ôter': 2, 'vient': 2, 'éveil': 2, 'songe': 2, 'eaux': 2, 'cheminent': 2, 'nom': 2, 'arrache': 2, 'soudain': 2, 'mort': 2, 'marche': 2, 'celle': 2, 'filles': 2, 'temples': 2, 'émotions': 2, 'cris': 2, 'parole': 2, 'éternité': 2, 'sable': 2, 'clandestines': 2, 'personne': 2, 'ailes': 2, 'naissance': 2, 'réel': 2, 'dément': 2, 'proverbes': 2, 'garde': 2, 'jette': 2, 'fais': 2, 'lèvres': 2, 'aucun': 2, 'blanche': 2, 'tient': 2, 'portes': 2, 'être': 2, 'profond': 2, 'souris': 2, 'jeu': 2, 'murmure': 2, 'avenir': 2, 'lâge': 2, 'gorge': 2, 'lheure': 2, 'devenue': 2, 'dessin': 2, 'clé': 2, 'vais': 2, 'quelle': 2, 'ans': 2, 'sais': 2, 'cloche': 2, 'comment': 2, 'lépoque': 2, 'peau': 2, 'jétais': 2, 'sest': 2, 'mets': 2, 'dès': 2, 'justice': 2, 'moimême': 2, 'partir': 2, 'âme': 2, 'mettre': 2, 'peut': 2, 'horizon': 2, 'printemps': 2, 'pays': 2, 'chemins': 2, 'trains': 2, 'nue': 2, 'soleil': 2, 'voix': 2, 'jambes': 2, 'embruns': 2, 'petits': 2, 'mouettes': 2, 'grande': 2, 'viens': 2, 'héros': 2, 'grandes': 2, 'pavés': 2, 'seulement': 2, 'bord': 2, 'plis': 2, 'roi': 2, 'peaux': 2, 'canaux': 2, 'langues': 2, 'murs': 2, 'porte': 2, 'trésors': 2, 'balle': 2, 'toutes': 2, 'nuits': 2, 'pipes': 2, 'passent': 2, 'balles': 2, 'vents': 2, 'marées': 2, 'peutêtre': 2, 'page': 2, 'aime': 2, 'bel': 2, 'âge': 2, 'papier': 2, 'dénude': 2, 'poète': 2, 'disait': 2, 'lêtre': 2, 'trace': 2, 'jusqu': 2, 'nen': 2, 'bonnes': 2, 'beaucoup': 2, 'donc': 2, 'sœurs': 2, 'seigneur': 2, 'livres': 2, 'champs': 2, 'grand': 2, 'jaimais': 2, 'quen': 2, 'doux': 2, 'parler': 2, 'clémence': 2, 'vrai': 2, 'charrue': 2, 'aussi': 2, 'javance': 2, 'visage': 2, 'tel': 2, 'souffert': 2, 'route': 2, 'largile': 2, 'boutique': 1, 'quai': 1, 'assis': 1, 'robe': 1, 'couleur': 1, 'prune': 1, 'comptoir': 1, 'genseng': 1, 'tresse': 1, 'parfumée': 1, 'huile': 1, 'camélia': 1, 'obliques': 1, 'rangées': 1, 'clavier': 1, 'blanc': 1, 'pratique': 1, 'sourit': 1, 'montrant': 1, 'ongles': 1, 'longs': 1, 'plongent': 1, 'coffrets': 1, 'laque': 1, 'peints': 1, 'dragons': 1, 'serpents': 1, 'enroulés': 1, 'traquent': 1, 'tirer': 1, 'péko': 1, 'souchong': 1, 'hangkai': 1, 'encor': 1, 'hysong': 1, 'selon': 1, 'vert': 1, 'agrée': 1, 'client': 1, 'avoir': 1, 'long': 1, 'kimono': 1, 'bleu': 1, 'femme': 1, 'khôl': 1, 'disent': 1, 'jettent': 1, 'flammes': 1, 'soir': 1, 'navires': 1, 'viennent': 1, 'prendre': 1, 'tables': 1, 'boire': 1, 'désirent': 1, 'agréable': 1, 'aimer': 1, 'venue': 1, 'car': 1, 'lors': 1, 'fraîcheur': 1, 'naît': 1, 'jourlà': 1, 'nuages': 1, 'tombèrent': 1, 'oisillons': 1, 'cessé': 1, 'dormir': 1, 'horssommeil': 1, 'horsespace': 1, 'rêvant': 1, 'duel': 1, 'contenter': 1, 'installée': 1, 'arrête': 1, 'nulle': 1, 'strophe': 1, 'moindre': 1, 'grimaud': 1, 'héberger': 1, 'rythme': 1, 'devenir': 1, 'haine': 1, 'dernière': 1, 'rixe': 1, 'flots': 1, 'ébène': 1, 'échouant': 1, 'épilogue': 1, 'suspension': 1, 'torticolis': 1, 'ravageait': 1, 'laisse': 1, 'conclusions': 1, 'écouler': 1, 'égalité': 1, 'part': 1, 'dissipée': 1, 'tisserand': 1, 'tapisseries': 1, 'malheur': 1, 'poème': 1, 'malveillance': 1, 'hache': 1, 'rictus': 1, 'noblesse': 1, 'noire': 1, 'patricienne': 1, 'croquemorts': 1, 'dédoublent': 1, 'croquevies': 1, 'radeaux': 1, 'vident': 1, 'lisses': 1, 'grandit': 1, 'aurore': 1, 'prépare': 1, 'pivoines': 1, 'dessus': 1, 'dessous': 1, 'confiance': 1, 'revenue': 1, 'étend': 1, 'vérité': 1, 'spéculative': 1, 'lieu': 1, 'constelle': 1, 'nuque': 1, 'nombres': 1, 'nm': 1, 'déroba': 1, 'immobilise': 1, 'rivières': 1, 'oraculaires': 1, 'restes': 1, 'dépit': 1, 'labyrinthe': 1, 'mortaises': 1, 'décameron': 1, 'griffe': 1, 'cyrillique': 1, 'athanor': 1, 'philosophale': 1, 'idéogrammes': 1, 'acacia': 1, 'remémore': 1, 'planté': 1, 'etroit': 1, 'psaume': 1, 'courant': 1, 'lointain': 1, 'hier': 1, 'vive': 1, 'ode': 1, 'ouvrant': 1, 'holocauste': 1, 'aérienne': 1, 'troupe': 1, 'natales': 1, 'cabotine': 1, 'incidence': 1, 'prière': 1, 'sens': 1, 'sauvé': 1, 'émet': 1, 'léger': 1, 'sifflement': 1, 'complote': 1, 'jeunes': 1, 'ribote': 1, 'exode': 1, 'met': 1, 'terme': 1, 'carrière': 1, 'grève': 1, 'consolide': 1, 'cristaux': 1, 'salins': 1, 'paupières': 1, 'libèrent': 1, 'elles': 1, 'emmuraient': 1, 'bouches': 1, 'sécrètent': 1, 'passementeries': 1, 'glaïeuls': 1, 'pommettes': 1, 'saillantes': 1, 'tressaille': 1, 'empire': 1, 'pures': 1, 'dynastie': 1, 'trône': 1, 'couronne': 1, 'cravache': 1, 'indolentes': 1, 'ballet': 1, 'feuilles': 1, 'mortes': 1, 'atomes': 1, 'épands': 1, 'versets': 1, 'désordre': 1, 'piste': 1, 'anciens': 1, 'dieux': 1, 'serpent': 1, 'pomme': 1, 'toit': 1, 'cigogne': 1, 'évide': 1, 'épaule': 1, 'danse': 1, 'immobiles': 1, 'évidence': 1, 'pédante': 1, 'ruade': 1, 'androgyne': 1, 'joues': 1, 'texte': 1, 'minuit': 1, 'givre': 1, 'glaive': 1, 'passé': 1, 'têtu': 1, 'troué': 1, 'instances': 1, 'mythiques': 1, 'esprit': 1, 'aiguisé': 1, 'époque': 1, 'obtuse': 1, 'théorèmes': 1, 'silence': 1, 'étoile': 1, 'bateleur': 1, 'crachat': 1, 'maternel': 1, 'révolte': 1, 'rose': 1, 'indigo': 1, 'rires': 1, 'bataillons': 1, 'baisers': 1, 'sourires': 1, 'renversée': 1, 'évasions': 1, 'nonécrit': 1, 'déminéraliser': 1, 'empruntée': 1, 'agitant': 1, 'immortelles': 1, 'anges': 1, 'quatre': 1, 'questions': 1, 'quelles': 1, 'lettres': 1, 'échapperont': 1, 'crucifixion': 1, 'poésie': 1, 'réussi': 1, 'franchir': 1, 'cap': 1, 'ébroue': 1, 'étouffe': 1, 'désolidarise': 1, 'corbeau': 1, 'perd': 1, 'cor': 1, 'amaryllis': 1, 'alice': 1, 'marie': 1, 'philtre': 1, 'traverse': 1, 'accole': 1, 'tubéreuse': 1, 'criminelle': 1, 'grimper': 1, 'intérieur': 1, 'bague': 1, 'magique': 1, 'passeport': 1, 'azur': 1, 'femmefleur': 1, 'racine': 1, 'propres': 1, 'songes': 1, 'fugitive': 1, 'cherche': 1, 'glisser': 1, 'petites': 1, 'cavités': 1, 'labeur': 1, 'capturée': 1, 'élégance': 1, 'prie': 1, 'astres': 1, 'adjectifs': 1, 'bigarrés': 1, 'prénoms': 1, 'verbes': 1, 'haute': 1, 'enfance': 1, 'libérée': 1, 'gymnopédie': 1, 'demiteintes': 1, 'maelström': 1, 'hortensias': 1, 'sculpte': 1, 'souples': 1, 'volutes': 1, 'irrigue': 1, 'mystères': 1, 'encre': 1, 'viscérale': 1, 'échancre': 1, 'lieder': 1, 'glisse': 1, 'mesures': 1, 'ocre': 1, 'récolte': 1, 'copal': 1, 'contes': 1, 'légendes': 1, 'regorgent': 1, 'mariées': 1, 'bercées': 1, 'océans': 1, 'séculaires': 1, 'lèche': 1, 'infini': 1, 'poignets': 1, 'entortille': 1, 'exhalent': 1, 'nombre': 1, 'tireur': 1, 'embusqué': 1, 'vise': 1, 'promène': 1, 'doigt': 1, 'inonde': 1, 'poitrine': 1, 'militante': 1, 'épelle': 1, 'symbole': 1, 'envoi': 1, 'prénom': 1, 'loge': 1, 'soulève': 1, 'parenthèse': 1, 'laquelle': 1, 'parfois': 1, 'abritée': 1, 'dissidence': 1, 'opiacée': 1, 'fleur': 1, 'attend': 1, 'velouté': 1, 'salvatrices': 1, 'frappe': 1, 'accroupit': 1, 'convoquée': 1, 'chants': 1, 'nuptiaux': 1, 'océan': 1, 'gouvernail': 1, 'rivage': 1, 'glissando': 1, 'notes': 1, 'nomades': 1, 'alvéoles': 1, 'découpés': 1, 'tissu': 1, 'siècles': 1, 'tribu': 1, 'passion': 1, 'creuset': 1, 'transfiguré': 1, 'rivière': 1, 'cou': 1, 'longeant': 1, 'ligne': 1, 'chevelure': 1, 'tatouage': 1, 'dun': 1, 'pousse': 1, 'plancton': 1, 'bat': 1, 'minvulse': 1, 'cauchemar': 1, 'montagne': 1, 'rutile': 1, 'orageux': 1, 'lenfant': 1, 'répand': 1, 'petit': 1, 'crabe': 1, 'crisse': 1, 'réalité': 1, 'féroce': 1, 'souriants': 1, 'mots': 1, 'sourdent': 1, 'abêtis': 1, 'seuls': 1, 'piloter': 1, 'intumescences': 1, 'perforation': 1, 'lidée': 1, 'progression': 1, 'administrée': 1, 'cuillère': 1, 'père': 1, 'perpétrée': 1, 'enseignement': 1, 'machinations': 1, 'gibecière': 1, 'terminale': 1, 'abcès': 1, 'état': 1, 'veuve': 1, 'perforée': 1, 'futur': 1, 'recroqueville': 1, 'naccepte': 1, 'faillite': 1, 'cage': 1, 'performante': 1, 'pendant': 1, 'soustraitée': 1, 'têtes': 1, 'droite': 1, 'délectent': 1, 'requalifier': 1, 'lieux': 1, 'jespère': 1, 'linstrumentalisation': 1, 'coule': 1, 'criblée': 1, 'crâne': 1, 'tremble': 1, 'encaisse': 1, 'battant': 1, 'question': 1, 'savoir': 1, 'continuer': 1, 'minutie': 1, 'construite': 1, 'prolifère': 1, 'réquisitions': 1, 'conformes': 1, 'cousue': 1, 'menuisière': 1, 'construction': 1, 'vêtu': 1, 'méconnaissable': 1, 'aujourd': 1, 'hui': 1, 'gaspiller': 1, 'porteuse': 1, 'faire': 1, 'fructifier': 1, 'fruit': 1, 'couler': 1, 'dautres': 1, 'plans': 1, 'œuvre': 1, 'impossible': 1, 'tâche': 1, 'donner': 1, 'agir': 1, 'raison': 1, 'linstinct': 1, 'nest': 1, 'quainsi': 1, 'réintègrera': 1, 'mission': 1, 'légitimera': 1, 'adéquat': 1, 'fondé': 1, 'fondera': 1, 'efforts': 1, 'vains': 1, 'intensifs': 1, 'minutes': 1, 'mentraînent': 1, 'apnée': 1, 'séteint': 1, 'tentatives': 1, 'renaissance': 1, 'pointent': 1, 'réveillés': 1, 'sursaut': 1, 'didée': 1, 'rétracte': 1, 'pâleur': 1, 'récoltes': 1, 'voler': 1, 'prenant': 1, 'élan': 1, 'soi': 1, 'oreille': 1, 'signifie': 1, 'garder': 1, 'ouvertes': 1, 'donnemoi': 1, 'cloître': 1, 'hamac': 1, 'ainsi': 1, 'tanguetelle': 1, 'chien': 1, 'solitaire': 1, 'file': 1, 'pluies': 1, 'automne': 1, 'âmes': 1, 'vides': 1, 'fixent': 1, 'disparu': 1, 'approche': 1, 'soupçon': 1, 'chaleur': 1, 'suffit': 1, 'dénouer': 1, 'premiers': 1, 'grelottants': 1, 'rebaptiser': 1, 'maternelle': 1, 'lignes': 1, 'lancées': 1, 'lisible': 1, 'expose': 1, 'implacablement': 1, 'œil': 1, 'belges': 1, 'envol': 1, 'poisson': 1, 'pareils': 1, 'insignifiants': 1, 'allongé': 1, 'seul': 1, 'écoute': 1, 'durant': 1, 'monte': 1, 'matin': 1, 'éveille': 1, 'parmi': 1, 'hurlantes': 1, 'sel': 1, 'lettre': 1, 'tavernes': 1, 'brillent': 1, 'courts': 1, 'phares': 1, 'réchauffer': 1, 'joyeuse': 1, 'multilingue': 1, 'coeke': 1, 'chouke': 1, 'manneke': 1, 'dikkenek': 1, 'fritkot': 1, 'démènent': 1, 'abritent': 1, 'bafoués': 1, 'traversées': 1, 'apparaissent': 1, 'pluvieux': 1, 'coeur': 1, 'miettes': 1, 'rails': 1, 'arpente': 1, 'prendsmoi': 1, 'caressemoi': 1, 'bas': 1, 'enivremoi': 1, 'basse': 1, 'enfouie': 1, 'entrailles': 1, 'soubassements': 1, 'secrets': 1, 'palais': 1, 'gigantesque': 1, 'gâteau': 1, 'schieve': 1, 'architecte': 1, 'plan': 1, 'sanspapiers': 1, 'peuvent': 1, 'abriter': 1, 'vélos': 1, 'pistes': 1, 'embout': 1, 'emmènemoi': 1, 'sac': 1, 'reviennent': 1, 'étirent': 1, 'tire': 1, 'nord': 1, 'vagues': 1, 'arbres': 1, 'fauche': 1, 'espaces': 1, 'verts': 1, 'disparition': 1, 'doucheflux': 1, 'ajustées': 1, 'pièces': 1, 'puzzle': 1, 'chiffonné': 1, 'ministres': 1, 'voraces': 1, 'reine': 1, 'princes': 1, 'princillons': 1, 'perruches': 1, 'flèches': 1, 'vertes': 1, 'cibles': 1, 'dansent': 1, 'possibles': 1, 'semelles': 1, 'étrangers': 1, 'amènent': 1, 'semences': 1, 'fraîches': 1, 'réveiller': 1, 'endormis': 1, 'emmurés': 1, 'belgique': 1, 'disparaissait': 1, 'resterait': 1, 'ardeurs': 1, 'mijn': 1, 'vriend': 1, 'friend': 1, 'abreuver': 1, 'tramways': 1, 'souterrains': 1, 'baleines': 1, 'jaunes': 1, 'disparues': 1, 'neuf': 1, 'sphères': 1, 'escaladent': 1, 'choux': 1, 'poussent': 1, 'hal': 1, 'chercheurs': 1, 'greenwich': 1, 'effacé': 1, 'échiquiers': 1, 'trouves': 1, 'vingttrois': 1, 'halles': 1, 'saintgéry': 1, 'belladones': 1, 'quartier': 1, 'tanneurs': 1, 'cafés': 1, 'suspendus': 1, 'fêlée': 1, 'trouée': 1, 'travaux': 1, 'sanstunnels': 1, 'milliers': 1, 'sentinelles': 1, 'trop': 1, 'veel': 1, 'xxl': 1, 'xxsmall': 1, 'maroc': 1, 'matongué': 1, 'autre': 1, 'marché': 1, 'chinois': 1, 'port': 1, 'senne': 1, 'zinneke': 1, 'parades': 1, 'hart': 1, 'boven': 1, 'hard': 1, 'entier': 1, 'passoires': 1, 'europe': 1, 'technocrates': 1, 'boutiques': 1, 'trouées': 1, 'troués': 1, 'vole': 1, 'oiseaux': 1, 'cliff': 1, 'rimbaud': 1, 'verlaine': 1, 'foire': 1, 'midi': 1, 'coup': 1, 'révolver': 1, 'trous': 1, 'fritkots': 1, 'smoutebollen': 1, 'emballent': 1, 'néons': 1, 'roses': 1, 'traintrain': 1, 'quotidiens': 1, 'troupeaux': 1, 'travailleurs': 1, 'européens': 1, 'peindre': 1, 'chanter': 1, 'danser': 1, 'dorloter': 1, 'rafistoler': 1, 'reverdir': 1, 'grands': 1, 'potagers': 1, 'déclaration': 1, 'obsolète': 1, 'politique': 1, 'pousser': 1, 'arbre': 1, 'forêt': 1, 'fleurir': 1, 'poumons': 1, 'allez': 1, 'crier': 1, 'gare': 1, 'guiboles': 1, 'marcheurs': 1, 'arpenteurs': 1, 'graffesy': 1, 'rêves': 1, 'foison': 1, 'chant': 1, 'souffle': 1, 'façonnent': 1, 'déclare': 1, 'poètes': 1, 'découvert': 1, 'coeurs': 1, 'ouverts': 1, 'passants': 1, 'battent': 1, 'pavé': 1, 'rester': 1, 'enfermé': 1, 'écris': 1, 'cette': 1, 'terrible': 1, 'adolescence': 1, 'permettrai': 1, 'dacné': 1, 'juvénile': 1, 'tourments': 1, 'disette': 1, 'guerre': 1, 'souliers': 1, 'éculés': 1, 'pages': 1, 'couvertes': 1, 'marges': 1, 'faute': 1, 'vrombrissement': 1, 'sourd': 1, 'bombardiers': 1, 'froid': 1, 'crevasse': 1, 'rats': 1, 'peur': 1, 'centre': 1, 'mâchoires': 1, 'bête': 1, 'los': 1, 'voir': 1, 'ligneux': 1, 'subsiste': 1, 'quun': 1, 'regard': 1, 'savait': 1, 'assise': 1, 'chaises': 1, 'permanent': 1, 'malaise': 1, 'sommeil': 1, 'pâte': 1, 'levait': 1, 'aucune': 1, 'indice': 1, 'enfant': 1, 'sœur': 1, 'traitezla': 1, 'douceur': 1, 'détournez': 1, 'delle': 1, 'calice': 1, 'fille': 1, 'fera': 1, 'quelque': 1, 'chose': 1, 'étudier': 1, 'dixneuf': 1, 'mariage': 1, 'pensezy': 1, 'gens': 1, 'quand': 1, 'enseigner': 1, 'enfants': 1, 'pomperont': 1, 'moelle': 1, 'ingrat': 1, 'inscrite': 1, 'lécole': 1, 'normale': 1, 'pensionnat': 1, 'gyzegem': 1, 'devise': 1, 'portroyal': 1, 'grise': 1, 'deux': 1, 'carrés': 1, 'navets': 1, 'nonnes': 1, 'cornette': 1, 'bêtise': 1, 'règlement': 1, 'laigrelette': 1, 'léglise': 1, 'égrenant': 1, 'nemporte': 1, 'glacials': 1, 'dortoirs': 1, 'leau': 1, 'gèle': 1, 'brocs': 1, 'avorte': 1, 'quon': 1, 'voit': 1, 'tableau': 1, 'fondée': 1, 'dame': 1, 'doeuvres': 1, 'demeure': 1, 'sappelait': 1, 'autrefois': 1, 'spinhuis': 1, 'chères': 1, 'montraient': 1, 'filer': 1, 'laine': 1, 'prier': 1, 'catéchisme': 1, 'tricot': 1, 'politesse': 1, 'brin': 1, 'dhygiène': 1, 'façon': 1, 'torcher': 1, 'marmots': 1, 'pauvresses': 1, 'voisinage': 1, 'acquéraient': 1, 'mœurs': 1, 'docilité': 1, 'moutons': 1, 'mis': 1, 'pacage': 1, 'aujourdhui': 1, 'rouets': 1, 'fuseaux': 1, 'classe': 1, 'descaut': 1, 'débarquent': 1, 'gros': 1, 'villages': 1, 'chapeaux': 1, 'gris': 1, 'jupes': 1, 'saucisson': 1, 'bagages': 1, 'lambition': 1, 'cerveau': 1, 'houblon': 1, 'près': 1, 'dendre': 1, 'peupliers': 1, 'flandre': 1, 'légumes': 1, 'groseilliers': 1, 'servent': 1, 'haies': 1, 'arpent': 1, 'coûtet': 1, 'prix': 1, 'sueur': 1, 'procès': 1, 'morne': 1, 'sale': 1, 'bouché': 1, 'lherbe': 1, 'vache': 1, 'prés': 1, 'bouses': 1, 'pont': 1, 'arrondit': 1, 'douces': 1, 'lentes': 1, 'relents': 1, 'moisissure': 1, 'pluie': 1, 'lodeur': 1, 'suave': 1, 'bourdonnements': 1, 'lété': 1, 'saules': 1, 'têtards': 1, 'ruisseaux': 1, 'conciliabules': 1, 'doiseaux': 1, 'tant': 1, 'entendre': 1, 'mourant': 1, 'veut': 1, 'compagnon': 1, 'pouchkine': 1, 'traduire': 1, 'lun': 1, 'russe': 1, 'sang': 1, 'depuis': 1, 'russes': 1, 'traînent': 1, 'lautre': 1, 'ressent': 1, 'blonde': 1, 'rude': 1, 'peuple': 1, 'bruges': 1, 'dixmude': 1, 'grisargent': 1, 'couleurs': 1, 'images': 1, 'mortuaires': 1, 'pensait': 1, 'rilke': 1, 'dirais': 1, 'lisais': 1, 'français': 1, 'génie': 1, 'chanté': 1, 'chante': 1, 'westflandre': 1, 'krinkende': 1, 'winklende': 1, 'waterding': 1, 'besoin': 1, 'comprendre': 1, 'traducteurs': 1, 'pourront': 1, 'grincer': 1, 'lalouette': 1, 'alouette': 1, 'lhirondelle': 1, 'hirondelle': 1, 'flamand': 1, 'raide': 1, 'jardin': 1, 'calvinistes': 1, 'bataves': 1, 'puriste': 1, 'frottée': 1, 'verre': 1, 'grandmère': 1, 'benoît': 1, 'labre': 1, 'présumé': 1, 'morceau': 1, 'croix': 1, 'sûrement': 1, 'faux': 1, 'signe': 1, 'pointe': 1, 'couteau': 1, 'dessiné': 1, 'pain': 1, 'avant': 1, 'lentame': 1, 'quavec': 1, 'pouce': 1, 'tendrement': 1, 'imprimait': 1, 'sceau': 1, 'fragile': 1, 'lâme': 1, 'indélébile': 1, 'flamands': 1, 'charrues': 1, 'croient': 1, 'sen': 1, 'moquer': 1, 'pamphlétaire': 1, 'resterai': 1, 'solidement': 1, 'plantés': 1, 'tristesse': 1, 'plein': 1, 'rire': 1, 'éclatant': 1, 'lappétit': 1, 'gargantuesque': 1, 'priant': 1, 'souvent': 1, 'travaille': 1, 'presque': 1, 'hivers': 1, 'suivent': 1, 'brouillards': 1, 'arrivent': 1, 'icare': 1, 'tombe': 1, 'chemin': 1, 'cheval': 1, 'simplement': 1, 'charrrue': 1, 'instrument': 1, 'docile': 1, 'bon': 1, 'outil': 1, 'sait': 1, 'force': 1, 'dêtre': 1, 'pouvoir': 1, 'vouloir': 1, 'laboureur': 1, 'tenue': 1, 'biaise': 1, 'rallume': 1, 'braises': 1, 'visez': 1, 'cœur': 1, 'lofficier': 1, 'peloton': 1, 'premier': 1, 'top': 1, 'redressée': 1, 'regardé': 1, 'tard': 1, 'pure': 1, 'peux': 1, 'compter': 1, 'instants': 1, 'échappe': 1, 'moment': 1, 'grâce': 1, 'saintclément': 1, 'conservait': 1, 'pli': 1, 'vêtement': 1, 'touche': 1, 'lange': 1, 'précède': 1, 'mattend': 1, 'mest': 1, 'apparu': 1, 'accompagne': 1, 'jappelle': 1, 'écran': 1, 'poursuit': 1, 'derniers': 1, 'retranchements': 1, 'ramasse': 1, 'passage': 1, 'débris': 1, 'quoi': 1, 'perds': 1, 'rassemble': 1, 'patiemment': 1, 'recoudre': 1, 'défais': 1, 'morte': 1, 'ressuscitée': 1, 'merci': 1, 'mavoir': 1, 'ôté': 1, 'lavantdernière': 1, 'seule': 1, 'reste': 1, 'verrons': 1, 'beaux': 1, 'ose': 1, 'jeunesse': 1, 'vivre': 1, 'prend': 1, 'saveur': 1, 'loignon': 1, 'verser': 1, 'doit': 1, 'pelure': 1, 'atteindre': 1, 'enfin': 1, 'trognon': 1, 'pris': 1, 'jointes': 1, 'grains': 1, 'chapelet': 1, 'docteur': 1, 'atil': 1, 'alainfournier': 1, 'septembre': 1, 'retrouver': 1, 'têtebêche': 1, 'charnier': 1, 'squelettes': 1, 'blancs': 1, 'anonymes': 1, 'vingt': 1, 'soldats': 1, 'lambeaux': 1, 'vêtements': 1, 'reconnaître': 1, 'lécrivain': 1, 'galons': 1, 'létoffe': 1, 'militaire': 1, 'durable': 1, 'moins': 1, 'mortels': 1, 'auteurs': 1, 'cinquième': 1, 'terrils': 1, 'lhorizon': 1, 'hlm': 1, 'dessinent': 1, 'déjà': 1, 'profil': 1, 'proche': 1, 'rapproche': 1, 'déroute': 1, 'men': 1, 'irai': 1, 'dici': 1, 'laissépourcompte': 1, 'lamour': 1, 'quitter': 1, 'quittèrent': 1, 'quitta': 1, 'appel': 1, 'malgré': 1, 'puissance': 1, 'tarhunza': 1, 'dankara': 1, 'sicile': 1, 'tiré': 1, 'requis': 1, 'suivre': 1})\n"
     ]
    }
   ],
   "source": [
    "\n",
    "print(Count_total)"
   ]
  },
  {
   "cell_type": "code",
   "execution_count": 15,
   "metadata": {},
   "outputs": [],
   "source": [
    "\n",
    "import pyperclip as clip\n"
   ]
  },
  {
   "cell_type": "code",
   "execution_count": 16,
   "metadata": {},
   "outputs": [],
   "source": [
    "clip.copy(f\"{Count_total}\")"
   ]
  },
  {
   "cell_type": "code",
   "execution_count": null,
   "metadata": {},
   "outputs": [],
   "source": [
    "# Command+V into a page/word/txt file [or clip.paste() to print it here, but in this case it is too large a list to print]"
   ]
  },
  {
   "cell_type": "code",
   "execution_count": 17,
   "metadata": {
    "scrolled": true
   },
   "outputs": [
    {
     "name": "stdout",
     "output_type": "stream",
     "text": [
      "105\n",
      "482\n",
      "198\n",
      "89\n",
      "364\n",
      "712\n"
     ]
    }
   ],
   "source": [
    "\n",
    "for i in range(6):\n",
    "    print(len(texts_data[i]))"
   ]
  },
  {
   "cell_type": "code",
   "execution_count": 19,
   "metadata": {},
   "outputs": [],
   "source": [
    "\n",
    "for i in range(6):\n",
    "    texts_data[i] = [x for x in texts_data[i] if x not in stopwords]"
   ]
  },
  {
   "cell_type": "code",
   "execution_count": 20,
   "metadata": {},
   "outputs": [
    {
     "name": "stdout",
     "output_type": "stream",
     "text": [
      "105\n",
      "482\n",
      "198\n",
      "89\n",
      "364\n",
      "712\n"
     ]
    }
   ],
   "source": [
    "for i in range(6):\n",
    "    print(len(texts_data[i]))"
   ]
  },
  {
   "cell_type": "code",
   "execution_count": 22,
   "metadata": {},
   "outputs": [],
   "source": [
    "\n",
    "Count_total_0 = Counter(texts_data[0])"
   ]
  },
  {
   "cell_type": "code",
   "execution_count": 23,
   "metadata": {},
   "outputs": [
    {
     "name": "stdout",
     "output_type": "stream",
     "text": [
      "Counter({'monsieur': 4, 'ying': 4, 'thé': 4, 'vend': 3, 'saké': 2, 'yeux': 2, 'bien': 2, 'madame': 2, 'yiang': 2, 'boutique': 1, 'bout': 1, 'quai': 1, 'assis': 1, 'robe': 1, 'couleur': 1, 'prune': 1, 'comptoir': 1, 'bois': 1, 'lune': 1, 'genseng': 1, 'tresse': 1, 'dos': 1, 'parfumée': 1, 'huile': 1, 'camélia': 1, 'sous': 1, 'front': 1, 'obliques': 1, 'rangées': 1, 'comme': 1, 'clavier': 1, 'blanc': 1, 'pratique': 1, 'sourit': 1, 'montrant': 1, 'dents': 1, 'tandis': 1, 'doigts': 1, 'ongles': 1, 'longs': 1, 'plongent': 1, 'coffrets': 1, 'laque': 1, 'peints': 1, 'dragons': 1, 'serpents': 1, 'enroulés': 1, 'traquent': 1, 'tirer': 1, 'péko': 1, 'souchong': 1, 'hangkai': 1, 'encor': 1, 'hysong': 1, 'selon': 1, 'vert': 1, 'noir': 1, 'agrée': 1, 'client': 1, 'avoir': 1, 'long': 1, 'kimono': 1, 'bleu': 1, 'femme': 1, 'khôl': 1, 'autour': 1, 'disent': 1, 'feu': 1, 'jettent': 1, 'flammes': 1, 'soir': 1, 'ceux': 1, 'navires': 1, 'viennent': 1, 'prendre': 1, 'place': 1, 'tables': 1, 'boire': 1, 'désirent': 1, 'agréable': 1, 'aimer': 1, 'venue': 1, 'fin': 1, 'jour': 1, 'car': 1, 'lors': 1, 'fraîcheur': 1, 'naît': 1, 'amour': 1})\n"
     ]
    }
   ],
   "source": [
    "print(Count_total_0)"
   ]
  },
  {
   "cell_type": "code",
   "execution_count": 24,
   "metadata": {},
   "outputs": [
    {
     "ename": "IndexError",
     "evalue": "list index out of range",
     "output_type": "error",
     "traceback": [
      "\u001b[0;31m---------------------------------------------------------------------------\u001b[0m",
      "\u001b[0;31mIndexError\u001b[0m                                Traceback (most recent call last)",
      "\u001b[0;32m<ipython-input-24-43a5e57af5cc>\u001b[0m in \u001b[0;36m<module>\u001b[0;34m\u001b[0m\n\u001b[0;32m----> 1\u001b[0;31m \u001b[0mCount_total_6\u001b[0m \u001b[0;34m=\u001b[0m \u001b[0mCounter\u001b[0m\u001b[0;34m(\u001b[0m\u001b[0mtexts_data\u001b[0m\u001b[0;34m[\u001b[0m\u001b[0;36m6\u001b[0m\u001b[0;34m]\u001b[0m\u001b[0;34m)\u001b[0m\u001b[0;34m\u001b[0m\u001b[0;34m\u001b[0m\u001b[0m\n\u001b[0m",
      "\u001b[0;31mIndexError\u001b[0m: list index out of range"
     ]
    }
   ],
   "source": [
    "\n",
    "Count_total_6 = Counter(texts_data[6])"
   ]
  },
  {
   "cell_type": "code",
   "execution_count": 25,
   "metadata": {},
   "outputs": [],
   "source": [
    "\n",
    "Count_total_5 = Counter(texts_data[5])"
   ]
  },
  {
   "cell_type": "code",
   "execution_count": 26,
   "metadata": {},
   "outputs": [
    {
     "name": "stdout",
     "output_type": "stream",
     "text": [
      "Counter({'plus': 8, 'comme': 7, 'sans': 6, 'faim': 5, 'dit': 5, 'non': 4, 'temps': 4, 'toujours': 4, 'tout': 4, 'fait': 4, 'rien': 4, 'chaque': 4, 'dire': 3, 'institutrice': 3, 'après': 3, 'dont': 3, 'ora': 3, 'labora': 3, 'pascal': 3, 'entre': 3, 'jour': 3, 'vent': 3, 'peu': 3, 'leurs': 3, 'gezelle': 3, 'dune': 3, 'quil': 3, 'celui': 3, 'joie': 3, 'jai': 3, 'lextase': 3, 'fois': 3, 'bel': 2, 'âge': 2, 'jours': 2, 'papier': 2, 'pieds': 2, 'dénude': 2, 'tête': 2, 'poète': 2, 'nul': 2, 'disait': 2, 'lêtre': 2, 'trace': 2, 'front': 2, 'cest': 2, 'faut': 2, 'jusqu': 2, 'nen': 2, 'bonnes': 2, 'beaucoup': 2, 'donc': 2, 'sœurs': 2, 'dieu': 2, 'mauvais': 2, 'jamais': 2, 'loin': 2, 'écrit': 2, 'seigneur': 2, 'livres': 2, 'champs': 2, 'terre': 2, 'toute': 2, 'grand': 2, 'jaimais': 2, 'quen': 2, 'langue': 2, 'doux': 2, 'parler': 2, 'clémence': 2, 'vrai': 2, 'charrue': 2, 'aussi': 2, 'javance': 2, 'main': 2, 'feu': 2, 'quatorze': 2, 'visage': 2, 'tel': 2, 'passe': 2, 'cent': 2, 'souffert': 2, 'corps': 2, 'ceux': 2, 'route': 2, 'largile': 2, 'terrible': 1, 'adolescence': 1, 'permettrai': 1, 'personne': 1, 'dacné': 1, 'juvénile': 1, 'tourments': 1, 'disette': 1, 'guerre': 1, 'souliers': 1, 'éculés': 1, 'pages': 1, 'couvertes': 1, 'marges': 1, 'faute': 1, 'vrombrissement': 1, 'sourd': 1, 'bombardiers': 1, 'froid': 1, 'crevasse': 1, 'rats': 1, 'peur': 1, 'ventre': 1, 'puis': 1, 'centre': 1, 'mâchoires': 1, 'bête': 1, 'los': 1, 'voir': 1, 'dessin': 1, 'ligneux': 1, 'subsiste': 1, 'quun': 1, 'regard': 1, 'jétais': 1, 'savait': 1, 'assise': 1, 'bord': 1, 'chaises': 1, 'permanent': 1, 'malaise': 1, 'sommeil': 1, 'pâte': 1, 'levait': 1, 'aucune': 1, 'aucun': 1, 'indice': 1, 'enfant': 1, 'sœur': 1, 'mettre': 1, 'garde': 1, 'traitezla': 1, 'douceur': 1, 'détournez': 1, 'delle': 1, 'calice': 1, 'fille': 1, 'fera': 1, 'peutêtre': 1, 'quelque': 1, 'chose': 1, 'étudier': 1, 'dixneuf': 1, 'ans': 1, 'mariage': 1, 'pensezy': 1, 'gens': 1, 'quand': 1, 'quelle': 1, 'aime': 1, 'enseigner': 1, 'enfants': 1, 'pomperont': 1, 'moelle': 1, 'ingrat': 1, 'inscrite': 1, 'lécole': 1, 'normale': 1, 'pensionnat': 1, 'gyzegem': 1, 'devise': 1, 'portroyal': 1, 'murs': 1, 'pierre': 1, 'grise': 1, 'deux': 1, 'carrés': 1, 'navets': 1, 'nonnes': 1, 'cornette': 1, 'bêtise': 1, 'règlement': 1, 'laigrelette': 1, 'cloche': 1, 'léglise': 1, 'égrenant': 1, 'lheure': 1, 'nemporte': 1, 'glacials': 1, 'dortoirs': 1, 'leau': 1, 'gèle': 1, 'brocs': 1, 'songe': 1, 'avorte': 1, 'dès': 1, 'quon': 1, 'voit': 1, 'tableau': 1, 'noir': 1, 'fondée': 1, 'dame': 1, 'doeuvres': 1, 'demeure': 1, 'sappelait': 1, 'autrefois': 1, 'spinhuis': 1, 'chères': 1, 'montraient': 1, 'filer': 1, 'laine': 1, 'prier': 1, 'catéchisme': 1, 'tricot': 1, 'politesse': 1, 'brin': 1, 'dhygiène': 1, 'façon': 1, 'torcher': 1, 'marmots': 1, 'pauvresses': 1, 'voisinage': 1, 'acquéraient': 1, 'mœurs': 1, 'docilité': 1, 'moutons': 1, 'mis': 1, 'pacage': 1, 'aujourdhui': 1, 'rouets': 1, 'fuseaux': 1, 'place': 1, 'classe': 1, 'filles': 1, 'pays': 1, 'descaut': 1, 'débarquent': 1, 'gros': 1, 'villages': 1, 'chapeaux': 1, 'gris': 1, 'souris': 1, 'jupes': 1, 'plis': 1, 'saucisson': 1, 'bagages': 1, 'lambition': 1, 'cerveau': 1, 'houblon': 1, 'près': 1, 'dendre': 1, 'peupliers': 1, 'chemins': 1, 'flandre': 1, 'petits': 1, 'jardins': 1, 'légumes': 1, 'groseilliers': 1, 'servent': 1, 'haies': 1, 'arpent': 1, 'coûtet': 1, 'prix': 1, 'sueur': 1, 'procès': 1, 'morne': 1, 'vers': 1, 'sale': 1, 'horizon': 1, 'ciel': 1, 'bouché': 1, 'lherbe': 1, 'vache': 1, 'prés': 1, 'bouses': 1, 'pont': 1, 'arrondit': 1, 'dos': 1, 'douces': 1, 'eaux': 1, 'lentes': 1, 'canaux': 1, 'relents': 1, 'moisissure': 1, 'sous': 1, 'pluie': 1, 'lodeur': 1, 'suave': 1, 'printemps': 1, 'bourdonnements': 1, 'lété': 1, 'saules': 1, 'têtards': 1, 'ruisseaux': 1, 'conciliabules': 1, 'doiseaux': 1, 'tant': 1, 'entendre': 1, 'mourant': 1, 'nom': 1, 'veut': 1, 'compagnon': 1, 'pouchkine': 1, 'peut': 1, 'traduire': 1, 'lun': 1, 'russe': 1, 'sang': 1, 'depuis': 1, 'russes': 1, 'traînent': 1, 'lautre': 1, 'ressent': 1, 'blonde': 1, 'rude': 1, 'peuple': 1, 'mer': 1, 'bruges': 1, 'dixmude': 1, 'grisargent': 1, 'poèmes': 1, 'couleurs': 1, 'images': 1, 'mortuaires': 1, 'pensait': 1, 'rilke': 1, 'dirais': 1, 'lisais': 1, 'français': 1, 'génie': 1, 'chanté': 1, 'chante': 1, 'westflandre': 1, 'krinkende': 1, 'winklende': 1, 'waterding': 1, 'besoin': 1, 'comprendre': 1, 'traducteurs': 1, 'pourront': 1, 'grincer': 1, 'dents': 1, 'lalouette': 1, 'parle': 1, 'alouette': 1, 'lhirondelle': 1, 'hirondelle': 1, 'flamand': 1, 'raide': 1, 'jardin': 1, 'calvinistes': 1, 'bataves': 1, 'puriste': 1, 'bien': 1, 'frottée': 1, 'verre': 1, 'celle': 1, 'grandmère': 1, 'bout': 1, 'benoît': 1, 'labre': 1, 'présumé': 1, 'morceau': 1, 'croix': 1, 'sûrement': 1, 'faux': 1, 'signe': 1, 'pointe': 1, 'couteau': 1, 'dessiné': 1, 'pain': 1, 'avant': 1, 'lentame': 1, 'quavec': 1, 'pouce': 1, 'tendrement': 1, 'imprimait': 1, 'sceau': 1, 'fragile': 1, 'lâme': 1, 'indélébile': 1, 'flamands': 1, 'charrues': 1, 'croient': 1, 'sen': 1, 'moquer': 1, 'pamphlétaire': 1, 'resterai': 1, 'monsieur': 1, 'solidement': 1, 'plantés': 1, 'tristesse': 1, 'plein': 1, 'yeux': 1, 'rire': 1, 'éclatant': 1, 'lappétit': 1, 'gargantuesque': 1, 'priant': 1, 'souvent': 1, 'travaille': 1, 'presque': 1, 'hivers': 1, 'suivent': 1, 'brouillards': 1, 'arrivent': 1, 'icare': 1, 'tombe': 1, 'vais': 1, 'chemin': 1, 'cheval': 1, 'simplement': 1, 'charrrue': 1, 'instrument': 1, 'docile': 1, 'bon': 1, 'outil': 1, 'sait': 1, 'force': 1, 'dêtre': 1, 'pouvoir': 1, 'vouloir': 1, 'seulement': 1, 'laboureur': 1, 'tenue': 1, 'biaise': 1, 'soleil': 1, 'rallume': 1, 'braises': 1, 'visez': 1, 'cœur': 1, 'lofficier': 1, 'peloton': 1, 'premier': 1, 'top': 1, 'heures': 1, 'sest': 1, 'redressée': 1, 'regardé': 1, 'porte': 1, 'tard': 1, 'être': 1, 'pure': 1, 'nue': 1, 'doigts': 1, 'peux': 1, 'compter': 1, 'instants': 1, 'vie': 1, 'échappe': 1, 'partir': 1, 'moment': 1, 'grâce': 1, 'saintclément': 1, 'conservait': 1, 'pli': 1, 'vêtement': 1, 'touche': 1, 'lange': 1, 'précède': 1, 'mattend': 1, 'mest': 1, 'apparu': 1, 'profond': 1, 'accompagne': 1, 'jappelle': 1, 'écran': 1, 'poursuit': 1, 'derniers': 1, 'retranchements': 1, 'ramasse': 1, 'passage': 1, 'débris': 1, 'quoi': 1, 'perds': 1, 'rassemble': 1, 'patiemment': 1, 'nuits': 1, 'recoudre': 1, 'défais': 1, 'morte': 1, 'ressuscitée': 1, 'merci': 1, 'mavoir': 1, 'ôté': 1, 'lavantdernière': 1, 'peaux': 1, 'seule': 1, 'reste': 1, 'verrons': 1, 'encore': 1, 'beaux': 1, 'ose': 1, 'jeunesse': 1, 'vivre': 1, 'prend': 1, 'saveur': 1, 'loignon': 1, 'verser': 1, 'larmes': 1, 'doit': 1, 'ôter': 1, 'pelure': 1, 'atteindre': 1, 'enfin': 1, 'trognon': 1, 'pris': 1, 'mains': 1, 'jointes': 1, 'grains': 1, 'chapelet': 1, 'docteur': 1, 'atil': 1, 'alainfournier': 1, 'mort': 1, 'balle': 1, 'septembre': 1, 'vient': 1, 'retrouver': 1, 'hommes': 1, 'têtebêche': 1, 'charnier': 1, 'squelettes': 1, 'blancs': 1, 'anonymes': 1, 'vingt': 1, 'soldats': 1, 'lambeaux': 1, 'vêtements': 1, 'reconnaître': 1, 'lécrivain': 1, 'galons': 1, 'létoffe': 1, 'militaire': 1, 'durable': 1, 'chair': 1, 'moins': 1, 'mortels': 1, 'auteurs': 1, 'tandis': 1, 'cinquième': 1, 'libre': 1, 'terrils': 1, 'lhorizon': 1, 'hlm': 1, 'dessinent': 1, 'déjà': 1, 'profil': 1, 'dis': 1, 'fin': 1, 'proche': 1, 'rapproche': 1, 'grande': 1, 'déroute': 1, 'men': 1, 'irai': 1, 'dici': 1, 'laissépourcompte': 1, 'lamour': 1, 'trésors': 1, 'monde': 1, 'quitter': 1, 'quittèrent': 1, 'quitta': 1, 'appel': 1, 'malgré': 1, 'puissance': 1, 'tarhunza': 1, 'dankara': 1, 'roi': 1, 'sicile': 1, 'sais': 1, 'tiré': 1, 'requis': 1, 'suivre': 1})\n"
     ]
    }
   ],
   "source": [
    "\n",
    "print(Count_total_5)"
   ]
  },
  {
   "cell_type": "code",
   "execution_count": null,
   "metadata": {},
   "outputs": [],
   "source": []
  }
 ],
 "metadata": {
  "kernelspec": {
   "display_name": "Python 3",
   "language": "python",
   "name": "python3"
  },
  "language_info": {
   "codemirror_mode": {
    "name": "ipython",
    "version": 3
   },
   "file_extension": ".py",
   "mimetype": "text/x-python",
   "name": "python",
   "nbconvert_exporter": "python",
   "pygments_lexer": "ipython3",
   "version": "3.7.6"
  }
 },
 "nbformat": 4,
 "nbformat_minor": 2
}
